{
  "cells": [
    {
      "cell_type": "code",
      "execution_count": null,
      "metadata": {
        "colab": {
          "base_uri": "https://localhost:8080/"
        },
        "id": "AA0c31mT6iQ9",
        "outputId": "53d36921-3913-4e92-f63f-4a45ef06f1d0"
      },
      "outputs": [
        {
          "name": "stdout",
          "output_type": "stream",
          "text": [
            "Mounted at /content/drive\n"
          ]
        }
      ],
      "source": [
        "from google.colab import drive\n",
        "drive.mount('/content/drive')"
      ]
    },
    {
      "cell_type": "code",
      "execution_count": null,
      "metadata": {
        "id": "BRlrFYdFdJpR"
      },
      "outputs": [],
      "source": [
        "import tensorflow as tf\n",
        "print(\"Num GPUs Available: \", len(tf.config.list_physical_devices('GPU')))"
      ]
    },
    {
      "cell_type": "code",
      "execution_count": null,
      "metadata": {
        "id": "I9UXoUI3c-_G"
      },
      "outputs": [],
      "source": [
        "from tensorflow.keras import backend as K"
      ]
    },
    {
      "cell_type": "code",
      "execution_count": null,
      "metadata": {
        "id": "3Uzkeq2zVBsu"
      },
      "outputs": [],
      "source": [
        "gpu_info = !nvidia-smi\n",
        "gpu_info = '\\n'.join(gpu_info)\n",
        "if gpu_info.find('failed') >= 0:\n",
        "  print('Not connected to a GPU')\n",
        "else:\n",
        "  print(gpu_info)"
      ]
    },
    {
      "cell_type": "code",
      "execution_count": null,
      "metadata": {
        "colab": {
          "base_uri": "https://localhost:8080/"
        },
        "id": "KY0fGciZVTSZ",
        "outputId": "71e6bd27-1bfc-42a8-c650-48ec7c66a486"
      },
      "outputs": [
        {
          "name": "stdout",
          "output_type": "stream",
          "text": [
            "Found GPU at: /device:GPU:0\n"
          ]
        }
      ],
      "source": [
        "import tensorflow as tf\n",
        "device_name = tf.test.gpu_device_name()\n",
        "if device_name != '/device:GPU:0':\n",
        "  raise SystemError('GPU device not found')\n",
        "print('Found GPU at: {}'.format(device_name))"
      ]
    },
    {
      "cell_type": "code",
      "execution_count": null,
      "metadata": {
        "colab": {
          "background_save": true
        },
        "id": "OVzKfmHpr41i"
      },
      "outputs": [],
      "source": [
        "from zipfile import ZipFile\n",
        "  \n",
        "with ZipFile(\"/content/drive/MyDrive/melspec.zip\", 'r') as zObject:\n",
        "  zObject.extractall(path=\"/content/runtime_data/\")\n",
        "zObject.close()"
      ]
    },
    {
      "cell_type": "code",
      "execution_count": null,
      "metadata": {
        "id": "sGpzkiUPMWxk"
      },
      "outputs": [],
      "source": [
        "from numpy.random import seed\n",
        "seed(42)\n",
        "tf.random.set_seed(42)"
      ]
    },
    {
      "cell_type": "markdown",
      "metadata": {
        "id": "DfNebexcGclR"
      },
      "source": [
        "### Birdcall classfication - Modelling 🐦\n",
        "Dishita Midha\n",
        "\n",
        "200968196"
      ]
    },
    {
      "cell_type": "markdown",
      "metadata": {
        "id": "uIaf4o1bFF_n"
      },
      "source": [
        "## Using EfficientNetB0 "
      ]
    },
    {
      "cell_type": "code",
      "execution_count": null,
      "metadata": {
        "colab": {
          "base_uri": "https://localhost:8080/"
        },
        "id": "xSmnn_0W2mvH",
        "outputId": "dbb7641f-eea0-4753-8cc9-fd5943b6b8e7"
      },
      "outputs": [
        {
          "name": "stdout",
          "output_type": "stream",
          "text": [
            "Looking in indexes: https://pypi.org/simple, https://us-python.pkg.dev/colab-wheels/public/simple/\n",
            "Collecting git+https://github.com/qubvel/efficientnet\n",
            "  Cloning https://github.com/qubvel/efficientnet to /tmp/pip-req-build-n0chemak\n",
            "  Running command git clone -q https://github.com/qubvel/efficientnet /tmp/pip-req-build-n0chemak\n",
            "Collecting keras_applications<=1.0.8,>=1.0.7\n",
            "  Downloading Keras_Applications-1.0.8-py3-none-any.whl (50 kB)\n",
            "\u001b[K     |████████████████████████████████| 50 kB 203 kB/s \n",
            "\u001b[?25hRequirement already satisfied: scikit-image in /usr/local/lib/python3.7/dist-packages (from efficientnet==1.1.1) (0.18.3)\n",
            "Requirement already satisfied: numpy>=1.9.1 in /usr/local/lib/python3.7/dist-packages (from keras_applications<=1.0.8,>=1.0.7->efficientnet==1.1.1) (1.21.6)\n",
            "Requirement already satisfied: h5py in /usr/local/lib/python3.7/dist-packages (from keras_applications<=1.0.8,>=1.0.7->efficientnet==1.1.1) (3.1.0)\n",
            "Requirement already satisfied: cached-property in /usr/local/lib/python3.7/dist-packages (from h5py->keras_applications<=1.0.8,>=1.0.7->efficientnet==1.1.1) (1.5.2)\n",
            "Requirement already satisfied: PyWavelets>=1.1.1 in /usr/local/lib/python3.7/dist-packages (from scikit-image->efficientnet==1.1.1) (1.3.0)\n",
            "Requirement already satisfied: imageio>=2.3.0 in /usr/local/lib/python3.7/dist-packages (from scikit-image->efficientnet==1.1.1) (2.9.0)\n",
            "Requirement already satisfied: tifffile>=2019.7.26 in /usr/local/lib/python3.7/dist-packages (from scikit-image->efficientnet==1.1.1) (2021.11.2)\n",
            "Requirement already satisfied: pillow!=7.1.0,!=7.1.1,>=4.3.0 in /usr/local/lib/python3.7/dist-packages (from scikit-image->efficientnet==1.1.1) (7.1.2)\n",
            "Requirement already satisfied: matplotlib!=3.0.0,>=2.0.0 in /usr/local/lib/python3.7/dist-packages (from scikit-image->efficientnet==1.1.1) (3.2.2)\n",
            "Requirement already satisfied: scipy>=1.0.1 in /usr/local/lib/python3.7/dist-packages (from scikit-image->efficientnet==1.1.1) (1.7.3)\n",
            "Requirement already satisfied: networkx>=2.0 in /usr/local/lib/python3.7/dist-packages (from scikit-image->efficientnet==1.1.1) (2.6.3)\n",
            "Requirement already satisfied: pyparsing!=2.0.4,!=2.1.2,!=2.1.6,>=2.0.1 in /usr/local/lib/python3.7/dist-packages (from matplotlib!=3.0.0,>=2.0.0->scikit-image->efficientnet==1.1.1) (3.0.9)\n",
            "Requirement already satisfied: cycler>=0.10 in /usr/local/lib/python3.7/dist-packages (from matplotlib!=3.0.0,>=2.0.0->scikit-image->efficientnet==1.1.1) (0.11.0)\n",
            "Requirement already satisfied: kiwisolver>=1.0.1 in /usr/local/lib/python3.7/dist-packages (from matplotlib!=3.0.0,>=2.0.0->scikit-image->efficientnet==1.1.1) (1.4.4)\n",
            "Requirement already satisfied: python-dateutil>=2.1 in /usr/local/lib/python3.7/dist-packages (from matplotlib!=3.0.0,>=2.0.0->scikit-image->efficientnet==1.1.1) (2.8.2)\n",
            "Requirement already satisfied: typing-extensions in /usr/local/lib/python3.7/dist-packages (from kiwisolver>=1.0.1->matplotlib!=3.0.0,>=2.0.0->scikit-image->efficientnet==1.1.1) (4.1.1)\n",
            "Requirement already satisfied: six>=1.5 in /usr/local/lib/python3.7/dist-packages (from python-dateutil>=2.1->matplotlib!=3.0.0,>=2.0.0->scikit-image->efficientnet==1.1.1) (1.15.0)\n",
            "Building wheels for collected packages: efficientnet\n",
            "  Building wheel for efficientnet (setup.py) ... \u001b[?25l\u001b[?25hdone\n",
            "  Created wheel for efficientnet: filename=efficientnet-1.1.1-py3-none-any.whl size=18447 sha256=bc1178b936667b54bb5e973cef4ab4bdf50300800c824c8711b49833367244e0\n",
            "  Stored in directory: /tmp/pip-ephem-wheel-cache-0rkeqd62/wheels/11/69/85/814d64d694c96db0eef17b718042d644a1e54f113920481920\n",
            "Successfully built efficientnet\n",
            "Installing collected packages: keras-applications, efficientnet\n",
            "Successfully installed efficientnet-1.1.1 keras-applications-1.0.8\n"
          ]
        }
      ],
      "source": [
        "! pip install -U git+https://github.com/qubvel/efficientnet"
      ]
    },
    {
      "cell_type": "code",
      "execution_count": null,
      "metadata": {
        "id": "2N53KVyQ6kfC"
      },
      "outputs": [],
      "source": [
        "from torch.utils.data import DataLoader, Dataset, random_split\n",
        "import numpy as np\n",
        "import pandas as pd\n",
        "%matplotlib inline\n",
        "from tqdm.notebook import tqdm\n",
        "import warnings\n",
        "warnings.filterwarnings('ignore')\n",
        "from tqdm.notebook import tqdm\n",
        "from IPython.display import Image\n",
        "from PIL import Image\n",
        "from IPython.display import Audio\n",
        "from torch.utils.data import DataLoader, Dataset, random_split\n",
        "from sklearn.preprocessing import LabelEncoder\n",
        "from numpy import asarray\n",
        "from sklearn.model_selection import train_test_split\n",
        "# from torch.utils.data import Dataset, DataLoader\n",
        "import cv2\n",
        "from tensorflow.keras.preprocessing.image import ImageDataGenerator\n",
        "from tensorflow.keras.callbacks import ReduceLROnPlateau, ModelCheckpoint, EarlyStopping\n",
        "from tensorflow.keras.applications.imagenet_utils import decode_predictions\n",
        "import efficientnet.tfkeras as efn \n",
        "from efficientnet.keras import center_crop_and_resize, preprocess_input\n",
        "import matplotlib.pyplot as plt\n",
        "from tensorflow.keras import backend as K\n",
        "from tensorflow.keras.models import Model\n",
        "from tensorflow.keras.optimizers import Adam\n",
        "from tensorflow.keras.models import Sequential, load_model\n",
        "from tensorflow.keras.layers import Conv2D, MaxPool2D, Dropout, Flatten, Dense, GlobalAveragePooling2D\n",
        "from sklearn.metrics import accuracy_score"
      ]
    },
    {
      "cell_type": "code",
      "execution_count": null,
      "metadata": {
        "id": "9MllP46Z6wNX"
      },
      "outputs": [],
      "source": [
        "chunk0 = pd.read_csv('/content/drive/MyDrive/Colab Notebooks/birdclef-2022/train_csv/chunk0_0.csv')\n",
        "chunk1 = pd.read_csv('/content/drive/MyDrive/Colab Notebooks/birdclef-2022/train_csv/chunk1_1.csv')\n",
        "chunk2 = pd.read_csv('/content/drive/MyDrive/Colab Notebooks/birdclef-2022/train_csv/chunk2_2.csv')\n",
        "chunk3 = pd.read_csv('/content/drive/MyDrive/Colab Notebooks/birdclef-2022/train_csv/chunk3_3.csv')\n",
        "chunk4 = pd.read_csv('/content/drive/MyDrive/Colab Notebooks/birdclef-2022/train_csv/chunk4_4.csv')\n",
        "chunk5 = pd.read_csv('/content/drive/MyDrive/Colab Notebooks/birdclef-2022/train_csv/chunk5_5.csv')"
      ]
    },
    {
      "cell_type": "code",
      "execution_count": null,
      "metadata": {
        "colab": {
          "base_uri": "https://localhost:8080/",
          "height": 424
        },
        "id": "ODqQYptw7LP3",
        "outputId": "139e42f4-b39c-4fd3-b0c1-a01e0060597d"
      },
      "outputs": [
        {
          "data": {
            "text/html": [
              "\n",
              "  <div id=\"df-0e7adbf4-41f7-43b0-8ec1-70333b4b6ac5\">\n",
              "    <div class=\"colab-df-container\">\n",
              "      <div>\n",
              "<style scoped>\n",
              "    .dataframe tbody tr th:only-of-type {\n",
              "        vertical-align: middle;\n",
              "    }\n",
              "\n",
              "    .dataframe tbody tr th {\n",
              "        vertical-align: top;\n",
              "    }\n",
              "\n",
              "    .dataframe thead th {\n",
              "        text-align: right;\n",
              "    }\n",
              "</style>\n",
              "<table border=\"1\" class=\"dataframe\">\n",
              "  <thead>\n",
              "    <tr style=\"text-align: right;\">\n",
              "      <th></th>\n",
              "      <th>Unnamed: 0</th>\n",
              "      <th>image_path</th>\n",
              "      <th>specie_type</th>\n",
              "    </tr>\n",
              "  </thead>\n",
              "  <tbody>\n",
              "    <tr>\n",
              "      <th>0</th>\n",
              "      <td>0</td>\n",
              "      <td>/content/drive/MyDrive/spectograms_new/train_i...</td>\n",
              "      <td>bcnher</td>\n",
              "    </tr>\n",
              "    <tr>\n",
              "      <th>1</th>\n",
              "      <td>1</td>\n",
              "      <td>/content/drive/MyDrive/spectograms_new/train_i...</td>\n",
              "      <td>bcnher</td>\n",
              "    </tr>\n",
              "    <tr>\n",
              "      <th>2</th>\n",
              "      <td>2</td>\n",
              "      <td>/content/drive/MyDrive/spectograms_new/train_i...</td>\n",
              "      <td>bcnher</td>\n",
              "    </tr>\n",
              "    <tr>\n",
              "      <th>3</th>\n",
              "      <td>3</td>\n",
              "      <td>/content/drive/MyDrive/spectograms_new/train_i...</td>\n",
              "      <td>bcnher</td>\n",
              "    </tr>\n",
              "    <tr>\n",
              "      <th>4</th>\n",
              "      <td>4</td>\n",
              "      <td>/content/drive/MyDrive/spectograms_new/train_i...</td>\n",
              "      <td>bcnher</td>\n",
              "    </tr>\n",
              "    <tr>\n",
              "      <th>...</th>\n",
              "      <td>...</td>\n",
              "      <td>...</td>\n",
              "      <td>...</td>\n",
              "    </tr>\n",
              "    <tr>\n",
              "      <th>4704</th>\n",
              "      <td>4704</td>\n",
              "      <td>/content/drive/MyDrive/spectograms_new/train_i...</td>\n",
              "      <td>wesmea</td>\n",
              "    </tr>\n",
              "    <tr>\n",
              "      <th>4705</th>\n",
              "      <td>4705</td>\n",
              "      <td>/content/drive/MyDrive/spectograms_new/train_i...</td>\n",
              "      <td>wesmea</td>\n",
              "    </tr>\n",
              "    <tr>\n",
              "      <th>4706</th>\n",
              "      <td>4706</td>\n",
              "      <td>/content/drive/MyDrive/spectograms_new/train_i...</td>\n",
              "      <td>wesmea</td>\n",
              "    </tr>\n",
              "    <tr>\n",
              "      <th>4707</th>\n",
              "      <td>4707</td>\n",
              "      <td>/content/drive/MyDrive/spectograms_new/train_i...</td>\n",
              "      <td>wesmea</td>\n",
              "    </tr>\n",
              "    <tr>\n",
              "      <th>4708</th>\n",
              "      <td>4708</td>\n",
              "      <td>/content/drive/MyDrive/spectograms_new/train_i...</td>\n",
              "      <td>wesmea</td>\n",
              "    </tr>\n",
              "  </tbody>\n",
              "</table>\n",
              "<p>26388 rows × 3 columns</p>\n",
              "</div>\n",
              "      <button class=\"colab-df-convert\" onclick=\"convertToInteractive('df-0e7adbf4-41f7-43b0-8ec1-70333b4b6ac5')\"\n",
              "              title=\"Convert this dataframe to an interactive table.\"\n",
              "              style=\"display:none;\">\n",
              "        \n",
              "  <svg xmlns=\"http://www.w3.org/2000/svg\" height=\"24px\"viewBox=\"0 0 24 24\"\n",
              "       width=\"24px\">\n",
              "    <path d=\"M0 0h24v24H0V0z\" fill=\"none\"/>\n",
              "    <path d=\"M18.56 5.44l.94 2.06.94-2.06 2.06-.94-2.06-.94-.94-2.06-.94 2.06-2.06.94zm-11 1L8.5 8.5l.94-2.06 2.06-.94-2.06-.94L8.5 2.5l-.94 2.06-2.06.94zm10 10l.94 2.06.94-2.06 2.06-.94-2.06-.94-.94-2.06-.94 2.06-2.06.94z\"/><path d=\"M17.41 7.96l-1.37-1.37c-.4-.4-.92-.59-1.43-.59-.52 0-1.04.2-1.43.59L10.3 9.45l-7.72 7.72c-.78.78-.78 2.05 0 2.83L4 21.41c.39.39.9.59 1.41.59.51 0 1.02-.2 1.41-.59l7.78-7.78 2.81-2.81c.8-.78.8-2.07 0-2.86zM5.41 20L4 18.59l7.72-7.72 1.47 1.35L5.41 20z\"/>\n",
              "  </svg>\n",
              "      </button>\n",
              "      \n",
              "  <style>\n",
              "    .colab-df-container {\n",
              "      display:flex;\n",
              "      flex-wrap:wrap;\n",
              "      gap: 12px;\n",
              "    }\n",
              "\n",
              "    .colab-df-convert {\n",
              "      background-color: #E8F0FE;\n",
              "      border: none;\n",
              "      border-radius: 50%;\n",
              "      cursor: pointer;\n",
              "      display: none;\n",
              "      fill: #1967D2;\n",
              "      height: 32px;\n",
              "      padding: 0 0 0 0;\n",
              "      width: 32px;\n",
              "    }\n",
              "\n",
              "    .colab-df-convert:hover {\n",
              "      background-color: #E2EBFA;\n",
              "      box-shadow: 0px 1px 2px rgba(60, 64, 67, 0.3), 0px 1px 3px 1px rgba(60, 64, 67, 0.15);\n",
              "      fill: #174EA6;\n",
              "    }\n",
              "\n",
              "    [theme=dark] .colab-df-convert {\n",
              "      background-color: #3B4455;\n",
              "      fill: #D2E3FC;\n",
              "    }\n",
              "\n",
              "    [theme=dark] .colab-df-convert:hover {\n",
              "      background-color: #434B5C;\n",
              "      box-shadow: 0px 1px 3px 1px rgba(0, 0, 0, 0.15);\n",
              "      filter: drop-shadow(0px 1px 2px rgba(0, 0, 0, 0.3));\n",
              "      fill: #FFFFFF;\n",
              "    }\n",
              "  </style>\n",
              "\n",
              "      <script>\n",
              "        const buttonEl =\n",
              "          document.querySelector('#df-0e7adbf4-41f7-43b0-8ec1-70333b4b6ac5 button.colab-df-convert');\n",
              "        buttonEl.style.display =\n",
              "          google.colab.kernel.accessAllowed ? 'block' : 'none';\n",
              "\n",
              "        async function convertToInteractive(key) {\n",
              "          const element = document.querySelector('#df-0e7adbf4-41f7-43b0-8ec1-70333b4b6ac5');\n",
              "          const dataTable =\n",
              "            await google.colab.kernel.invokeFunction('convertToInteractive',\n",
              "                                                     [key], {});\n",
              "          if (!dataTable) return;\n",
              "\n",
              "          const docLinkHtml = 'Like what you see? Visit the ' +\n",
              "            '<a target=\"_blank\" href=https://colab.research.google.com/notebooks/data_table.ipynb>data table notebook</a>'\n",
              "            + ' to learn more about interactive tables.';\n",
              "          element.innerHTML = '';\n",
              "          dataTable['output_type'] = 'display_data';\n",
              "          await google.colab.output.renderOutput(dataTable, element);\n",
              "          const docLink = document.createElement('div');\n",
              "          docLink.innerHTML = docLinkHtml;\n",
              "          element.appendChild(docLink);\n",
              "        }\n",
              "      </script>\n",
              "    </div>\n",
              "  </div>\n",
              "  "
            ],
            "text/plain": [
              "      Unnamed: 0                                         image_path  \\\n",
              "0              0  /content/drive/MyDrive/spectograms_new/train_i...   \n",
              "1              1  /content/drive/MyDrive/spectograms_new/train_i...   \n",
              "2              2  /content/drive/MyDrive/spectograms_new/train_i...   \n",
              "3              3  /content/drive/MyDrive/spectograms_new/train_i...   \n",
              "4              4  /content/drive/MyDrive/spectograms_new/train_i...   \n",
              "...          ...                                                ...   \n",
              "4704        4704  /content/drive/MyDrive/spectograms_new/train_i...   \n",
              "4705        4705  /content/drive/MyDrive/spectograms_new/train_i...   \n",
              "4706        4706  /content/drive/MyDrive/spectograms_new/train_i...   \n",
              "4707        4707  /content/drive/MyDrive/spectograms_new/train_i...   \n",
              "4708        4708  /content/drive/MyDrive/spectograms_new/train_i...   \n",
              "\n",
              "     specie_type  \n",
              "0         bcnher  \n",
              "1         bcnher  \n",
              "2         bcnher  \n",
              "3         bcnher  \n",
              "4         bcnher  \n",
              "...          ...  \n",
              "4704      wesmea  \n",
              "4705      wesmea  \n",
              "4706      wesmea  \n",
              "4707      wesmea  \n",
              "4708      wesmea  \n",
              "\n",
              "[26388 rows x 3 columns]"
            ]
          },
          "execution_count": 15,
          "metadata": {},
          "output_type": "execute_result"
        }
      ],
      "source": [
        "birds = pd.concat([chunk0, chunk1, chunk2, chunk3, chunk4, chunk5])\n",
        "birds"
      ]
    },
    {
      "cell_type": "code",
      "execution_count": null,
      "metadata": {
        "id": "AF77lUxqtNfJ"
      },
      "outputs": [],
      "source": [
        "new_image_paths = []\n",
        "for path in birds['image_path']:\n",
        "  components = path.split('/MyDrive/')\n",
        "  path = '/content/runtime_data/' + components[1]\n",
        "  new_image_paths.append(path)"
      ]
    },
    {
      "cell_type": "code",
      "execution_count": null,
      "metadata": {
        "colab": {
          "base_uri": "https://localhost:8080/",
          "height": 424
        },
        "id": "5D6h5B4LuJyW",
        "outputId": "bb935725-a1d6-4ab5-fdd5-966b214b41a9"
      },
      "outputs": [
        {
          "data": {
            "text/html": [
              "\n",
              "  <div id=\"df-b71405a6-036e-49e1-9be6-5db68be46ab4\">\n",
              "    <div class=\"colab-df-container\">\n",
              "      <div>\n",
              "<style scoped>\n",
              "    .dataframe tbody tr th:only-of-type {\n",
              "        vertical-align: middle;\n",
              "    }\n",
              "\n",
              "    .dataframe tbody tr th {\n",
              "        vertical-align: top;\n",
              "    }\n",
              "\n",
              "    .dataframe thead th {\n",
              "        text-align: right;\n",
              "    }\n",
              "</style>\n",
              "<table border=\"1\" class=\"dataframe\">\n",
              "  <thead>\n",
              "    <tr style=\"text-align: right;\">\n",
              "      <th></th>\n",
              "      <th>Unnamed: 0</th>\n",
              "      <th>image_path</th>\n",
              "      <th>specie_type</th>\n",
              "      <th>runtime_image_path</th>\n",
              "    </tr>\n",
              "  </thead>\n",
              "  <tbody>\n",
              "    <tr>\n",
              "      <th>0</th>\n",
              "      <td>0</td>\n",
              "      <td>/content/drive/MyDrive/spectograms_new/train_i...</td>\n",
              "      <td>bcnher</td>\n",
              "      <td>/content/runtime_data/spectograms_new/train_im...</td>\n",
              "    </tr>\n",
              "    <tr>\n",
              "      <th>1</th>\n",
              "      <td>1</td>\n",
              "      <td>/content/drive/MyDrive/spectograms_new/train_i...</td>\n",
              "      <td>bcnher</td>\n",
              "      <td>/content/runtime_data/spectograms_new/train_im...</td>\n",
              "    </tr>\n",
              "    <tr>\n",
              "      <th>2</th>\n",
              "      <td>2</td>\n",
              "      <td>/content/drive/MyDrive/spectograms_new/train_i...</td>\n",
              "      <td>bcnher</td>\n",
              "      <td>/content/runtime_data/spectograms_new/train_im...</td>\n",
              "    </tr>\n",
              "    <tr>\n",
              "      <th>3</th>\n",
              "      <td>3</td>\n",
              "      <td>/content/drive/MyDrive/spectograms_new/train_i...</td>\n",
              "      <td>bcnher</td>\n",
              "      <td>/content/runtime_data/spectograms_new/train_im...</td>\n",
              "    </tr>\n",
              "    <tr>\n",
              "      <th>4</th>\n",
              "      <td>4</td>\n",
              "      <td>/content/drive/MyDrive/spectograms_new/train_i...</td>\n",
              "      <td>bcnher</td>\n",
              "      <td>/content/runtime_data/spectograms_new/train_im...</td>\n",
              "    </tr>\n",
              "    <tr>\n",
              "      <th>...</th>\n",
              "      <td>...</td>\n",
              "      <td>...</td>\n",
              "      <td>...</td>\n",
              "      <td>...</td>\n",
              "    </tr>\n",
              "    <tr>\n",
              "      <th>4704</th>\n",
              "      <td>4704</td>\n",
              "      <td>/content/drive/MyDrive/spectograms_new/train_i...</td>\n",
              "      <td>wesmea</td>\n",
              "      <td>/content/runtime_data/spectograms_new/train_im...</td>\n",
              "    </tr>\n",
              "    <tr>\n",
              "      <th>4705</th>\n",
              "      <td>4705</td>\n",
              "      <td>/content/drive/MyDrive/spectograms_new/train_i...</td>\n",
              "      <td>wesmea</td>\n",
              "      <td>/content/runtime_data/spectograms_new/train_im...</td>\n",
              "    </tr>\n",
              "    <tr>\n",
              "      <th>4706</th>\n",
              "      <td>4706</td>\n",
              "      <td>/content/drive/MyDrive/spectograms_new/train_i...</td>\n",
              "      <td>wesmea</td>\n",
              "      <td>/content/runtime_data/spectograms_new/train_im...</td>\n",
              "    </tr>\n",
              "    <tr>\n",
              "      <th>4707</th>\n",
              "      <td>4707</td>\n",
              "      <td>/content/drive/MyDrive/spectograms_new/train_i...</td>\n",
              "      <td>wesmea</td>\n",
              "      <td>/content/runtime_data/spectograms_new/train_im...</td>\n",
              "    </tr>\n",
              "    <tr>\n",
              "      <th>4708</th>\n",
              "      <td>4708</td>\n",
              "      <td>/content/drive/MyDrive/spectograms_new/train_i...</td>\n",
              "      <td>wesmea</td>\n",
              "      <td>/content/runtime_data/spectograms_new/train_im...</td>\n",
              "    </tr>\n",
              "  </tbody>\n",
              "</table>\n",
              "<p>26388 rows × 4 columns</p>\n",
              "</div>\n",
              "      <button class=\"colab-df-convert\" onclick=\"convertToInteractive('df-b71405a6-036e-49e1-9be6-5db68be46ab4')\"\n",
              "              title=\"Convert this dataframe to an interactive table.\"\n",
              "              style=\"display:none;\">\n",
              "        \n",
              "  <svg xmlns=\"http://www.w3.org/2000/svg\" height=\"24px\"viewBox=\"0 0 24 24\"\n",
              "       width=\"24px\">\n",
              "    <path d=\"M0 0h24v24H0V0z\" fill=\"none\"/>\n",
              "    <path d=\"M18.56 5.44l.94 2.06.94-2.06 2.06-.94-2.06-.94-.94-2.06-.94 2.06-2.06.94zm-11 1L8.5 8.5l.94-2.06 2.06-.94-2.06-.94L8.5 2.5l-.94 2.06-2.06.94zm10 10l.94 2.06.94-2.06 2.06-.94-2.06-.94-.94-2.06-.94 2.06-2.06.94z\"/><path d=\"M17.41 7.96l-1.37-1.37c-.4-.4-.92-.59-1.43-.59-.52 0-1.04.2-1.43.59L10.3 9.45l-7.72 7.72c-.78.78-.78 2.05 0 2.83L4 21.41c.39.39.9.59 1.41.59.51 0 1.02-.2 1.41-.59l7.78-7.78 2.81-2.81c.8-.78.8-2.07 0-2.86zM5.41 20L4 18.59l7.72-7.72 1.47 1.35L5.41 20z\"/>\n",
              "  </svg>\n",
              "      </button>\n",
              "      \n",
              "  <style>\n",
              "    .colab-df-container {\n",
              "      display:flex;\n",
              "      flex-wrap:wrap;\n",
              "      gap: 12px;\n",
              "    }\n",
              "\n",
              "    .colab-df-convert {\n",
              "      background-color: #E8F0FE;\n",
              "      border: none;\n",
              "      border-radius: 50%;\n",
              "      cursor: pointer;\n",
              "      display: none;\n",
              "      fill: #1967D2;\n",
              "      height: 32px;\n",
              "      padding: 0 0 0 0;\n",
              "      width: 32px;\n",
              "    }\n",
              "\n",
              "    .colab-df-convert:hover {\n",
              "      background-color: #E2EBFA;\n",
              "      box-shadow: 0px 1px 2px rgba(60, 64, 67, 0.3), 0px 1px 3px 1px rgba(60, 64, 67, 0.15);\n",
              "      fill: #174EA6;\n",
              "    }\n",
              "\n",
              "    [theme=dark] .colab-df-convert {\n",
              "      background-color: #3B4455;\n",
              "      fill: #D2E3FC;\n",
              "    }\n",
              "\n",
              "    [theme=dark] .colab-df-convert:hover {\n",
              "      background-color: #434B5C;\n",
              "      box-shadow: 0px 1px 3px 1px rgba(0, 0, 0, 0.15);\n",
              "      filter: drop-shadow(0px 1px 2px rgba(0, 0, 0, 0.3));\n",
              "      fill: #FFFFFF;\n",
              "    }\n",
              "  </style>\n",
              "\n",
              "      <script>\n",
              "        const buttonEl =\n",
              "          document.querySelector('#df-b71405a6-036e-49e1-9be6-5db68be46ab4 button.colab-df-convert');\n",
              "        buttonEl.style.display =\n",
              "          google.colab.kernel.accessAllowed ? 'block' : 'none';\n",
              "\n",
              "        async function convertToInteractive(key) {\n",
              "          const element = document.querySelector('#df-b71405a6-036e-49e1-9be6-5db68be46ab4');\n",
              "          const dataTable =\n",
              "            await google.colab.kernel.invokeFunction('convertToInteractive',\n",
              "                                                     [key], {});\n",
              "          if (!dataTable) return;\n",
              "\n",
              "          const docLinkHtml = 'Like what you see? Visit the ' +\n",
              "            '<a target=\"_blank\" href=https://colab.research.google.com/notebooks/data_table.ipynb>data table notebook</a>'\n",
              "            + ' to learn more about interactive tables.';\n",
              "          element.innerHTML = '';\n",
              "          dataTable['output_type'] = 'display_data';\n",
              "          await google.colab.output.renderOutput(dataTable, element);\n",
              "          const docLink = document.createElement('div');\n",
              "          docLink.innerHTML = docLinkHtml;\n",
              "          element.appendChild(docLink);\n",
              "        }\n",
              "      </script>\n",
              "    </div>\n",
              "  </div>\n",
              "  "
            ],
            "text/plain": [
              "      Unnamed: 0                                         image_path  \\\n",
              "0              0  /content/drive/MyDrive/spectograms_new/train_i...   \n",
              "1              1  /content/drive/MyDrive/spectograms_new/train_i...   \n",
              "2              2  /content/drive/MyDrive/spectograms_new/train_i...   \n",
              "3              3  /content/drive/MyDrive/spectograms_new/train_i...   \n",
              "4              4  /content/drive/MyDrive/spectograms_new/train_i...   \n",
              "...          ...                                                ...   \n",
              "4704        4704  /content/drive/MyDrive/spectograms_new/train_i...   \n",
              "4705        4705  /content/drive/MyDrive/spectograms_new/train_i...   \n",
              "4706        4706  /content/drive/MyDrive/spectograms_new/train_i...   \n",
              "4707        4707  /content/drive/MyDrive/spectograms_new/train_i...   \n",
              "4708        4708  /content/drive/MyDrive/spectograms_new/train_i...   \n",
              "\n",
              "     specie_type                                 runtime_image_path  \n",
              "0         bcnher  /content/runtime_data/spectograms_new/train_im...  \n",
              "1         bcnher  /content/runtime_data/spectograms_new/train_im...  \n",
              "2         bcnher  /content/runtime_data/spectograms_new/train_im...  \n",
              "3         bcnher  /content/runtime_data/spectograms_new/train_im...  \n",
              "4         bcnher  /content/runtime_data/spectograms_new/train_im...  \n",
              "...          ...                                                ...  \n",
              "4704      wesmea  /content/runtime_data/spectograms_new/train_im...  \n",
              "4705      wesmea  /content/runtime_data/spectograms_new/train_im...  \n",
              "4706      wesmea  /content/runtime_data/spectograms_new/train_im...  \n",
              "4707      wesmea  /content/runtime_data/spectograms_new/train_im...  \n",
              "4708      wesmea  /content/runtime_data/spectograms_new/train_im...  \n",
              "\n",
              "[26388 rows x 4 columns]"
            ]
          },
          "execution_count": 17,
          "metadata": {},
          "output_type": "execute_result"
        }
      ],
      "source": [
        "birds = birds.assign(runtime_image_path = new_image_paths)\n",
        "birds"
      ]
    },
    {
      "cell_type": "code",
      "execution_count": null,
      "metadata": {
        "id": "k3Qp0sLs7Rag"
      },
      "outputs": [],
      "source": [
        "birds = birds.sample(frac = 1)"
      ]
    },
    {
      "cell_type": "code",
      "execution_count": null,
      "metadata": {
        "id": "GaWRYJc_AIVp"
      },
      "outputs": [],
      "source": [
        "birds = birds[['runtime_image_path', 'specie_type']]"
      ]
    },
    {
      "cell_type": "code",
      "execution_count": null,
      "metadata": {
        "id": "KdWeMHkA2mSO"
      },
      "outputs": [],
      "source": [
        "encoder = LabelEncoder()\n",
        "birds['primary_label_encoded'] = encoder.fit_transform(birds['specie_type'])"
      ]
    },
    {
      "cell_type": "code",
      "execution_count": null,
      "metadata": {
        "colab": {
          "base_uri": "https://localhost:8080/",
          "height": 424
        },
        "id": "5JXM9nb5V5fv",
        "outputId": "5c9cddd3-aa3c-48bb-9eb4-1e6f7619f8aa"
      },
      "outputs": [
        {
          "data": {
            "text/html": [
              "\n",
              "  <div id=\"df-16ff48e0-3d27-4216-8dfa-26e6fdebece6\">\n",
              "    <div class=\"colab-df-container\">\n",
              "      <div>\n",
              "<style scoped>\n",
              "    .dataframe tbody tr th:only-of-type {\n",
              "        vertical-align: middle;\n",
              "    }\n",
              "\n",
              "    .dataframe tbody tr th {\n",
              "        vertical-align: top;\n",
              "    }\n",
              "\n",
              "    .dataframe thead th {\n",
              "        text-align: right;\n",
              "    }\n",
              "</style>\n",
              "<table border=\"1\" class=\"dataframe\">\n",
              "  <thead>\n",
              "    <tr style=\"text-align: right;\">\n",
              "      <th></th>\n",
              "      <th>runtime_image_path</th>\n",
              "      <th>specie_type</th>\n",
              "      <th>primary_label_encoded</th>\n",
              "    </tr>\n",
              "  </thead>\n",
              "  <tbody>\n",
              "    <tr>\n",
              "      <th>2229</th>\n",
              "      <td>/content/runtime_data/spectograms_new/train_im...</td>\n",
              "      <td>brnowl</td>\n",
              "      <td>2</td>\n",
              "    </tr>\n",
              "    <tr>\n",
              "      <th>2774</th>\n",
              "      <td>/content/runtime_data/spectograms_new/train_im...</td>\n",
              "      <td>mallar3</td>\n",
              "      <td>11</td>\n",
              "    </tr>\n",
              "    <tr>\n",
              "      <th>1305</th>\n",
              "      <td>/content/runtime_data/spectograms_new/train_im...</td>\n",
              "      <td>houfin</td>\n",
              "      <td>9</td>\n",
              "    </tr>\n",
              "    <tr>\n",
              "      <th>2207</th>\n",
              "      <td>/content/runtime_data/spectograms_new/train_im...</td>\n",
              "      <td>norcar</td>\n",
              "      <td>12</td>\n",
              "    </tr>\n",
              "    <tr>\n",
              "      <th>2111</th>\n",
              "      <td>/content/runtime_data/spectograms_new/train_im...</td>\n",
              "      <td>houspa</td>\n",
              "      <td>10</td>\n",
              "    </tr>\n",
              "    <tr>\n",
              "      <th>...</th>\n",
              "      <td>...</td>\n",
              "      <td>...</td>\n",
              "      <td>...</td>\n",
              "    </tr>\n",
              "    <tr>\n",
              "      <th>10774</th>\n",
              "      <td>/content/runtime_data/spectograms_new/train_im...</td>\n",
              "      <td>normoc</td>\n",
              "      <td>13</td>\n",
              "    </tr>\n",
              "    <tr>\n",
              "      <th>3003</th>\n",
              "      <td>/content/runtime_data/spectograms_new/train_im...</td>\n",
              "      <td>dunlin</td>\n",
              "      <td>5</td>\n",
              "    </tr>\n",
              "    <tr>\n",
              "      <th>860</th>\n",
              "      <td>/content/runtime_data/spectograms_new/train_im...</td>\n",
              "      <td>bcnher</td>\n",
              "      <td>0</td>\n",
              "    </tr>\n",
              "    <tr>\n",
              "      <th>4994</th>\n",
              "      <td>/content/runtime_data/spectograms_new/train_im...</td>\n",
              "      <td>normoc</td>\n",
              "      <td>13</td>\n",
              "    </tr>\n",
              "    <tr>\n",
              "      <th>1975</th>\n",
              "      <td>/content/runtime_data/spectograms_new/train_im...</td>\n",
              "      <td>wesmea</td>\n",
              "      <td>16</td>\n",
              "    </tr>\n",
              "  </tbody>\n",
              "</table>\n",
              "<p>26388 rows × 3 columns</p>\n",
              "</div>\n",
              "      <button class=\"colab-df-convert\" onclick=\"convertToInteractive('df-16ff48e0-3d27-4216-8dfa-26e6fdebece6')\"\n",
              "              title=\"Convert this dataframe to an interactive table.\"\n",
              "              style=\"display:none;\">\n",
              "        \n",
              "  <svg xmlns=\"http://www.w3.org/2000/svg\" height=\"24px\"viewBox=\"0 0 24 24\"\n",
              "       width=\"24px\">\n",
              "    <path d=\"M0 0h24v24H0V0z\" fill=\"none\"/>\n",
              "    <path d=\"M18.56 5.44l.94 2.06.94-2.06 2.06-.94-2.06-.94-.94-2.06-.94 2.06-2.06.94zm-11 1L8.5 8.5l.94-2.06 2.06-.94-2.06-.94L8.5 2.5l-.94 2.06-2.06.94zm10 10l.94 2.06.94-2.06 2.06-.94-2.06-.94-.94-2.06-.94 2.06-2.06.94z\"/><path d=\"M17.41 7.96l-1.37-1.37c-.4-.4-.92-.59-1.43-.59-.52 0-1.04.2-1.43.59L10.3 9.45l-7.72 7.72c-.78.78-.78 2.05 0 2.83L4 21.41c.39.39.9.59 1.41.59.51 0 1.02-.2 1.41-.59l7.78-7.78 2.81-2.81c.8-.78.8-2.07 0-2.86zM5.41 20L4 18.59l7.72-7.72 1.47 1.35L5.41 20z\"/>\n",
              "  </svg>\n",
              "      </button>\n",
              "      \n",
              "  <style>\n",
              "    .colab-df-container {\n",
              "      display:flex;\n",
              "      flex-wrap:wrap;\n",
              "      gap: 12px;\n",
              "    }\n",
              "\n",
              "    .colab-df-convert {\n",
              "      background-color: #E8F0FE;\n",
              "      border: none;\n",
              "      border-radius: 50%;\n",
              "      cursor: pointer;\n",
              "      display: none;\n",
              "      fill: #1967D2;\n",
              "      height: 32px;\n",
              "      padding: 0 0 0 0;\n",
              "      width: 32px;\n",
              "    }\n",
              "\n",
              "    .colab-df-convert:hover {\n",
              "      background-color: #E2EBFA;\n",
              "      box-shadow: 0px 1px 2px rgba(60, 64, 67, 0.3), 0px 1px 3px 1px rgba(60, 64, 67, 0.15);\n",
              "      fill: #174EA6;\n",
              "    }\n",
              "\n",
              "    [theme=dark] .colab-df-convert {\n",
              "      background-color: #3B4455;\n",
              "      fill: #D2E3FC;\n",
              "    }\n",
              "\n",
              "    [theme=dark] .colab-df-convert:hover {\n",
              "      background-color: #434B5C;\n",
              "      box-shadow: 0px 1px 3px 1px rgba(0, 0, 0, 0.15);\n",
              "      filter: drop-shadow(0px 1px 2px rgba(0, 0, 0, 0.3));\n",
              "      fill: #FFFFFF;\n",
              "    }\n",
              "  </style>\n",
              "\n",
              "      <script>\n",
              "        const buttonEl =\n",
              "          document.querySelector('#df-16ff48e0-3d27-4216-8dfa-26e6fdebece6 button.colab-df-convert');\n",
              "        buttonEl.style.display =\n",
              "          google.colab.kernel.accessAllowed ? 'block' : 'none';\n",
              "\n",
              "        async function convertToInteractive(key) {\n",
              "          const element = document.querySelector('#df-16ff48e0-3d27-4216-8dfa-26e6fdebece6');\n",
              "          const dataTable =\n",
              "            await google.colab.kernel.invokeFunction('convertToInteractive',\n",
              "                                                     [key], {});\n",
              "          if (!dataTable) return;\n",
              "\n",
              "          const docLinkHtml = 'Like what you see? Visit the ' +\n",
              "            '<a target=\"_blank\" href=https://colab.research.google.com/notebooks/data_table.ipynb>data table notebook</a>'\n",
              "            + ' to learn more about interactive tables.';\n",
              "          element.innerHTML = '';\n",
              "          dataTable['output_type'] = 'display_data';\n",
              "          await google.colab.output.renderOutput(dataTable, element);\n",
              "          const docLink = document.createElement('div');\n",
              "          docLink.innerHTML = docLinkHtml;\n",
              "          element.appendChild(docLink);\n",
              "        }\n",
              "      </script>\n",
              "    </div>\n",
              "  </div>\n",
              "  "
            ],
            "text/plain": [
              "                                      runtime_image_path specie_type  \\\n",
              "2229   /content/runtime_data/spectograms_new/train_im...      brnowl   \n",
              "2774   /content/runtime_data/spectograms_new/train_im...     mallar3   \n",
              "1305   /content/runtime_data/spectograms_new/train_im...      houfin   \n",
              "2207   /content/runtime_data/spectograms_new/train_im...      norcar   \n",
              "2111   /content/runtime_data/spectograms_new/train_im...      houspa   \n",
              "...                                                  ...         ...   \n",
              "10774  /content/runtime_data/spectograms_new/train_im...      normoc   \n",
              "3003   /content/runtime_data/spectograms_new/train_im...      dunlin   \n",
              "860    /content/runtime_data/spectograms_new/train_im...      bcnher   \n",
              "4994   /content/runtime_data/spectograms_new/train_im...      normoc   \n",
              "1975   /content/runtime_data/spectograms_new/train_im...      wesmea   \n",
              "\n",
              "       primary_label_encoded  \n",
              "2229                       2  \n",
              "2774                      11  \n",
              "1305                       9  \n",
              "2207                      12  \n",
              "2111                      10  \n",
              "...                      ...  \n",
              "10774                     13  \n",
              "3003                       5  \n",
              "860                        0  \n",
              "4994                      13  \n",
              "1975                      16  \n",
              "\n",
              "[26388 rows x 3 columns]"
            ]
          },
          "execution_count": 21,
          "metadata": {},
          "output_type": "execute_result"
        }
      ],
      "source": [
        "birds"
      ]
    },
    {
      "cell_type": "code",
      "execution_count": null,
      "metadata": {
        "id": "zwG6biEg8bOw"
      },
      "outputs": [],
      "source": [
        "#splitting dataset into train test and validation\n",
        "train_ratio = 0.80\n",
        "validation_ratio = 0.10\n",
        "test_ratio = 0.10\n",
        "\n",
        "train = birds['runtime_image_path']\n",
        "test = birds['specie_type']\n",
        "\n",
        "X_train, X_test, y_train, y_test = train_test_split(train, test, test_size= 1 - train_ratio)\n",
        "\n",
        "X_val, X_test, y_val, y_test = train_test_split(X_test, y_test, test_size = test_ratio/(test_ratio + validation_ratio)) \n"
      ]
    },
    {
      "cell_type": "code",
      "execution_count": null,
      "metadata": {
        "id": "awHjFFpC-pWF"
      },
      "outputs": [],
      "source": [
        "def generate_df(X, y):\n",
        "  df = pd.DataFrame()\n",
        "  df['runtime_image_path'] = X\n",
        "  df['specie_type'] = y\n",
        "  return df\n",
        "\n",
        "train_df = generate_df(X_train, y_train)\n",
        "val_df = generate_df(X_val, y_val)\n",
        "test_df = generate_df(X_test, y_test)\n"
      ]
    },
    {
      "cell_type": "code",
      "execution_count": null,
      "metadata": {
        "id": "m2BbqNfaBiGE"
      },
      "outputs": [],
      "source": [
        "class config:\n",
        "  size = (224, 224)\n",
        "  epochs = 20"
      ]
    },
    {
      "cell_type": "markdown",
      "metadata": {
        "id": "qJoOq5bOGGvV"
      },
      "source": [
        "## Creating data generators for train, test, val"
      ]
    },
    {
      "cell_type": "code",
      "execution_count": null,
      "metadata": {
        "id": "TJd4kDOTYs-O"
      },
      "outputs": [],
      "source": [
        "birds_classes= [*set(birds['specie_type'].tolist())]\n",
        "\n",
        "train_datagen = ImageDataGenerator(preprocessing_function=preprocess_input,  \n",
        "                                   width_shift_range=0.2,\n",
        "                                   height_shift_range=0.2,\n",
        "                                   shear_range=0.2,\n",
        "                                   zoom_range=0.1,\n",
        "                                   fill_mode='nearest')\n",
        "valid_datagen = ImageDataGenerator(preprocessing_function=preprocess_input)\n"
      ]
    },
    {
      "cell_type": "code",
      "execution_count": null,
      "metadata": {
        "id": "UG3xCXZm1Dfw"
      },
      "outputs": [],
      "source": [
        "test_datagen = ImageDataGenerator(preprocessing_function=preprocess_input)\n",
        "\n"
      ]
    },
    {
      "cell_type": "markdown",
      "metadata": {
        "id": "vYN7RV8fubW2"
      },
      "source": [
        "### Another type of data generator"
      ]
    },
    {
      "cell_type": "code",
      "execution_count": null,
      "metadata": {
        "colab": {
          "base_uri": "https://localhost:8080/"
        },
        "id": "4E1QEs2PtidZ",
        "outputId": "3009d55f-dd0d-4e36-82a4-2b4514d4904b"
      },
      "outputs": [
        {
          "name": "stdout",
          "output_type": "stream",
          "text": [
            "Found 21110 validated image filenames belonging to 17 classes.\n"
          ]
        }
      ],
      "source": [
        "train_generator=train_datagen.flow_from_dataframe(\n",
        "dataframe=train_df,\n",
        "directory=None,\n",
        "x_col=\"runtime_image_path\",\n",
        "y_col=\"specie_type\",\n",
        "batch_size=16,\n",
        "shuffle=True,\n",
        "class_mode=\"categorical\",\n",
        "target_size=config.size)"
      ]
    },
    {
      "cell_type": "code",
      "execution_count": null,
      "metadata": {
        "colab": {
          "base_uri": "https://localhost:8080/"
        },
        "id": "_LO1_2YTuU_I",
        "outputId": "26efc2b1-8d7b-4c6f-96b3-0a3a7c4671fb"
      },
      "outputs": [
        {
          "name": "stdout",
          "output_type": "stream",
          "text": [
            "Found 2639 validated image filenames belonging to 17 classes.\n"
          ]
        }
      ],
      "source": [
        "valid_generator=valid_datagen.flow_from_dataframe(\n",
        "dataframe=val_df,\n",
        "directory=None,\n",
        "x_col=\"runtime_image_path\",\n",
        "y_col=\"specie_type\",\n",
        "batch_size=16,\n",
        "shuffle=True,\n",
        "class_mode=\"categorical\",\n",
        "target_size=config.size)"
      ]
    },
    {
      "cell_type": "code",
      "execution_count": null,
      "metadata": {
        "colab": {
          "base_uri": "https://localhost:8080/"
        },
        "id": "e6UvrxbHvel7",
        "outputId": "d572004a-1631-4124-cecc-e22ab74077f0"
      },
      "outputs": [
        {
          "name": "stdout",
          "output_type": "stream",
          "text": [
            "Found 2639 validated image filenames.\n"
          ]
        }
      ],
      "source": [
        "test_generator=test_datagen.flow_from_dataframe(\n",
        "dataframe=test_df,\n",
        "directory=None,\n",
        "x_col=\"runtime_image_path\",\n",
        "y_col=None,\n",
        "batch_size=16,\n",
        "shuffle=False,\n",
        "class_mode=None,\n",
        "target_size=config.size)"
      ]
    },
    {
      "cell_type": "code",
      "execution_count": null,
      "metadata": {
        "colab": {
          "base_uri": "https://localhost:8080/"
        },
        "id": "v0544PvPx0iw",
        "outputId": "211e6953-158c-48f5-e096-8843e5b683f5"
      },
      "outputs": [
        {
          "name": "stdout",
          "output_type": "stream",
          "text": [
            "****************\n",
            "Class nr  0  ->  bcnher\n",
            "Class nr  1  ->  bkbplo\n",
            "Class nr  2  ->  brnowl\n",
            "Class nr  3  ->  cangoo\n",
            "Class nr  4  ->  comsan\n",
            "Class nr  5  ->  dunlin\n",
            "Class nr  6  ->  eurwig\n",
            "Class nr  7  ->  gnwtea\n",
            "Class nr  8  ->  gwfgoo\n",
            "Class nr  9  ->  houfin\n",
            "Class nr  10  ->  houspa\n",
            "Class nr  11  ->  mallar3\n",
            "Class nr  12  ->  norcar\n",
            "Class nr  13  ->  normoc\n",
            "Class nr  14  ->  rorpar\n",
            "Class nr  15  ->  skylar\n",
            "Class nr  16  ->  wesmea\n",
            "****************\n"
          ]
        }
      ],
      "source": [
        "birds_encoding2 = {}\n",
        "print('****************')\n",
        "for cls, idx in train_generator.class_indices.items():\n",
        "    print('Class nr ',idx,' -> ', cls)\n",
        "    birds_encoding2[cls] = idx\n",
        "print('****************')"
      ]
    },
    {
      "cell_type": "markdown",
      "metadata": {
        "id": "KhTQCRS8x6cA"
      },
      "source": [
        "# MODEL"
      ]
    },
    {
      "cell_type": "code",
      "execution_count": null,
      "metadata": {
        "colab": {
          "base_uri": "https://localhost:8080/"
        },
        "id": "eQC3x2YIbKRM",
        "outputId": "c2e29813-6552-461f-8125-316b5cfbb3a6"
      },
      "outputs": [
        {
          "name": "stdout",
          "output_type": "stream",
          "text": [
            "Downloading data from https://github.com/Callidior/keras-applications/releases/download/efficientnet/efficientnet-b0_weights_tf_dim_ordering_tf_kernels_autoaugment_notop.h5\n",
            "16804768/16804768 [==============================] - 1s 0us/step\n",
            "Model: \"sequential\"\n",
            "_________________________________________________________________\n",
            " Layer (type)                Output Shape              Param #   \n",
            "=================================================================\n",
            " efficientnet-b0 (Functional  (None, 7, 7, 1280)       4049564   \n",
            " )                                                               \n",
            "                                                                 \n",
            " global_average_pooling2d (G  (None, 1280)             0         \n",
            " lobalAveragePooling2D)                                          \n",
            "                                                                 \n",
            " dropout (Dropout)           (None, 1280)              0         \n",
            "                                                                 \n",
            " dense (Dense)               (None, 17)                21777     \n",
            "                                                                 \n",
            "=================================================================\n",
            "Total params: 4,071,341\n",
            "Trainable params: 4,029,325\n",
            "Non-trainable params: 42,016\n",
            "_________________________________________________________________\n"
          ]
        }
      ],
      "source": [
        "efnb0 = efn.EfficientNetB0(weights='imagenet', include_top=False, input_shape=(224,224,3), classes=17)\n",
        "\n",
        "model = Sequential()\n",
        "model.add(efnb0)\n",
        "model.add(GlobalAveragePooling2D())\n",
        "model.add(Dropout(0.5))\n",
        "model.add(Dense(17, activation='softmax'))\n",
        "\n",
        "model.summary()"
      ]
    },
    {
      "cell_type": "code",
      "execution_count": null,
      "metadata": {
        "id": "-GrZ4wDreA5K"
      },
      "outputs": [],
      "source": [
        "optimizer = Adam(lr=0.0001)\n",
        "\n",
        "#early stopping to monitor the validation loss and avoid overfitting\n",
        "early_stop = EarlyStopping(monitor='val_loss', mode='min', verbose=1, patience=10, restore_best_weights=True)\n",
        "\n",
        "#reducing learning rate on plateau\n",
        "rlrop = ReduceLROnPlateau(monitor='val_loss', mode='min', patience= 5, factor= 0.5, min_lr= 1e-6, verbose=1)\n",
        "#model compiling\n",
        "model.compile(optimizer=optimizer, loss='categorical_crossentropy', metrics=['accuracy'])"
      ]
    },
    {
      "cell_type": "code",
      "execution_count": null,
      "metadata": {
        "colab": {
          "base_uri": "https://localhost:8080/"
        },
        "id": "kDOVnvhaetYn",
        "outputId": "0d527505-7a38-43b1-ccf6-a18aa2f27c08"
      },
      "outputs": [
        {
          "name": "stdout",
          "output_type": "stream",
          "text": [
            "Epoch 1/20\n",
            "1320/1320 [==============================] - 318s 228ms/step - loss: 1.6781 - accuracy: 0.4829 - val_loss: 1.1728 - val_accuracy: 0.6434 - lr: 1.0000e-04\n",
            "Epoch 2/20\n",
            "1320/1320 [==============================] - 297s 225ms/step - loss: 1.1831 - accuracy: 0.6360 - val_loss: 0.8817 - val_accuracy: 0.7211 - lr: 1.0000e-04\n",
            "Epoch 3/20\n",
            "1320/1320 [==============================] - 297s 225ms/step - loss: 1.0133 - accuracy: 0.6851 - val_loss: 0.7867 - val_accuracy: 0.7579 - lr: 1.0000e-04\n",
            "Epoch 4/20\n",
            "1320/1320 [==============================] - 296s 224ms/step - loss: 0.9148 - accuracy: 0.7169 - val_loss: 0.7563 - val_accuracy: 0.7575 - lr: 1.0000e-04\n",
            "Epoch 5/20\n",
            "1320/1320 [==============================] - 296s 224ms/step - loss: 0.8430 - accuracy: 0.7380 - val_loss: 0.7277 - val_accuracy: 0.7689 - lr: 1.0000e-04\n",
            "Epoch 6/20\n",
            "1320/1320 [==============================] - 297s 225ms/step - loss: 0.7798 - accuracy: 0.7550 - val_loss: 0.7327 - val_accuracy: 0.7836 - lr: 1.0000e-04\n",
            "Epoch 7/20\n",
            "1320/1320 [==============================] - 293s 222ms/step - loss: 0.7220 - accuracy: 0.7771 - val_loss: 0.6274 - val_accuracy: 0.8049 - lr: 1.0000e-04\n",
            "Epoch 8/20\n",
            "1320/1320 [==============================] - 290s 219ms/step - loss: 0.6921 - accuracy: 0.7860 - val_loss: 0.7241 - val_accuracy: 0.7851 - lr: 1.0000e-04\n",
            "Epoch 9/20\n",
            "1320/1320 [==============================] - 289s 219ms/step - loss: 0.6427 - accuracy: 0.7981 - val_loss: 0.6257 - val_accuracy: 0.8071 - lr: 1.0000e-04\n",
            "Epoch 10/20\n",
            "1320/1320 [==============================] - 291s 220ms/step - loss: 0.6166 - accuracy: 0.8062 - val_loss: 0.6709 - val_accuracy: 0.8026 - lr: 1.0000e-04\n",
            "Epoch 11/20\n",
            "1320/1320 [==============================] - 290s 219ms/step - loss: 0.5910 - accuracy: 0.8157 - val_loss: 0.6280 - val_accuracy: 0.8136 - lr: 1.0000e-04\n",
            "Epoch 12/20\n",
            "1320/1320 [==============================] - 291s 221ms/step - loss: 0.5640 - accuracy: 0.8243 - val_loss: 0.6059 - val_accuracy: 0.8223 - lr: 1.0000e-04\n",
            "Epoch 13/20\n",
            "1320/1320 [==============================] - 294s 223ms/step - loss: 0.5402 - accuracy: 0.8308 - val_loss: 0.6229 - val_accuracy: 0.8132 - lr: 1.0000e-04\n",
            "Epoch 14/20\n",
            "1320/1320 [==============================] - 293s 222ms/step - loss: 0.5175 - accuracy: 0.8379 - val_loss: 0.6494 - val_accuracy: 0.8033 - lr: 1.0000e-04\n",
            "Epoch 15/20\n",
            "1320/1320 [==============================] - 290s 219ms/step - loss: 0.4959 - accuracy: 0.8444 - val_loss: 0.6124 - val_accuracy: 0.8121 - lr: 1.0000e-04\n",
            "Epoch 16/20\n",
            "1320/1320 [==============================] - 290s 220ms/step - loss: 0.4819 - accuracy: 0.8477 - val_loss: 0.5416 - val_accuracy: 0.8367 - lr: 1.0000e-04\n",
            "Epoch 17/20\n",
            "1320/1320 [==============================] - 291s 220ms/step - loss: 0.4626 - accuracy: 0.8531 - val_loss: 0.5710 - val_accuracy: 0.8348 - lr: 1.0000e-04\n",
            "Epoch 18/20\n",
            "1320/1320 [==============================] - 293s 222ms/step - loss: 0.4475 - accuracy: 0.8604 - val_loss: 0.6050 - val_accuracy: 0.8261 - lr: 1.0000e-04\n",
            "Epoch 19/20\n",
            "1320/1320 [==============================] - 290s 220ms/step - loss: 0.4357 - accuracy: 0.8611 - val_loss: 0.5909 - val_accuracy: 0.8257 - lr: 1.0000e-04\n",
            "Epoch 20/20\n",
            "1320/1320 [==============================] - 292s 221ms/step - loss: 0.4193 - accuracy: 0.8675 - val_loss: 0.5272 - val_accuracy: 0.8534 - lr: 1.0000e-04\n"
          ]
        }
      ],
      "source": [
        "model_history = model.fit_generator(train_generator, validation_data = valid_generator, callbacks = [early_stop, rlrop],verbose = 1, epochs = config.epochs)\n",
        "\n",
        "#saving the trained model weights as data file in .h5 format\n",
        "model.save(\"/content/drive/MyDrive/Colab Notebooks/birdclef-2022/model/effnet-with-new-data.h5\")"
      ]
    },
    {
      "cell_type": "code",
      "execution_count": null,
      "metadata": {
        "id": "iD0Gib5O77Jb"
      },
      "outputs": [],
      "source": [
        "import pickle\n",
        "with open('/content/drive/MyDrive/Colab Notebooks/birdclef-2022/model/train_history_effnet_with_new_data', 'wb') as file_pi:\n",
        "    pickle.dump(model_history.history, file_pi)"
      ]
    },
    {
      "cell_type": "code",
      "execution_count": null,
      "metadata": {
        "id": "RVMOLRg7dqHv"
      },
      "outputs": [],
      "source": [
        "model.save_weights(\"/content/drive/MyDrive/Colab Notebooks/birdclef-2022/model/effnet_with_new_data-2.h5\")"
      ]
    },
    {
      "cell_type": "markdown",
      "metadata": {
        "id": "3PeteD_0kMuA"
      },
      "source": [
        "# Evaluation Metrics\n",
        "* Loss and Accuracy Plots\n",
        "* Accuracy score on test set\n",
        "* Classification Report\n",
        "* Confusion Matrix"
      ]
    },
    {
      "cell_type": "code",
      "execution_count": null,
      "metadata": {
        "colab": {
          "base_uri": "https://localhost:8080/",
          "height": 559
        },
        "id": "5foalRdDBCDi",
        "outputId": "45526092-c32c-4af2-9814-9774215c2b94"
      },
      "outputs": [
        {
          "data": {
            "image/png": "[encoded data removed]",
            "text/plain": [
              "<Figure size 1296x576 with 2 Axes>"
            ]
          },
          "metadata": {},
          "output_type": "display_data"
        }
      ],
      "source": [
        "plt.figure(figsize=(18,8))\n",
        "\n",
        "plt.suptitle('Loss and Accuracy Plots', fontsize=18)\n",
        "\n",
        "plt.subplot(1,2,1)\n",
        "plt.plot(model_history.history['loss'], label='Training Loss')\n",
        "plt.plot(model_history.history['val_loss'], label='Validation Loss')\n",
        "plt.legend()\n",
        "plt.xlabel('Number of epochs', fontsize=15)\n",
        "plt.ylabel('Loss', fontsize=15)\n",
        "\n",
        "plt.subplot(1,2,2)\n",
        "plt.plot(model_history.history['accuracy'], label='Train Accuracy')\n",
        "plt.plot(model_history.history['val_accuracy'], label='Validation Accuracy')\n",
        "plt.legend()\n",
        "plt.xlabel('Number of epochs', fontsize=14)\n",
        "plt.ylabel('Accuracy', fontsize=14)\n",
        "plt.show()"
      ]
    },
    {
      "cell_type": "code",
      "execution_count": null,
      "metadata": {
        "colab": {
          "base_uri": "https://localhost:8080/"
        },
        "id": "_6B9n6h9rfqc",
        "outputId": "cd94d2bc-b185-46a4-9014-d3a0c3eca987"
      },
      "outputs": [
        {
          "name": "stdout",
          "output_type": "stream",
          "text": [
            "165/165 [==============================] - 12s 75ms/step - loss: 0.5272 - accuracy: 0.8534\n",
            "Validation Accuracy:  85.34 %\n"
          ]
        }
      ],
      "source": [
        "valid_loss, valid_accuracy = model.evaluate_generator(generator = valid_generator, verbose = 1)\n",
        "\n",
        "print('Validation Accuracy: ', round((valid_accuracy * 100), 2), \"%\")"
      ]
    },
    {
      "cell_type": "code",
      "execution_count": null,
      "metadata": {
        "colab": {
          "base_uri": "https://localhost:8080/"
        },
        "id": "Q2iE3AS3ZPku",
        "outputId": "f9e55d5c-74dc-4a3f-85dc-be2dc383208e"
      },
      "outputs": [
        {
          "name": "stdout",
          "output_type": "stream",
          "text": [
            "165/165 [==============================] - 13s 71ms/step\n"
          ]
        }
      ],
      "source": [
        "test_generator.reset()\n",
        "pred=model.predict_generator(test_generator,verbose=1)\n",
        "predicted_class_indices=np.argmax(pred,axis=1)"
      ]
    },
    {
      "cell_type": "code",
      "execution_count": null,
      "metadata": {
        "id": "9aqh5olgD_hE"
      },
      "outputs": [],
      "source": [
        "labels = (train_generator.class_indices)\n",
        "labels = dict((v,k) for k,v in labels.items())\n",
        "predictions = [labels[k] for k in predicted_class_indices]"
      ]
    },
    {
      "cell_type": "code",
      "execution_count": null,
      "metadata": {
        "id": "iYePGTACE_Ga"
      },
      "outputs": [],
      "source": [
        "filenames=test_generator.filenames\n",
        "results=pd.DataFrame({\"Filename\":filenames,\n",
        "                      \"Predictions\":predictions})"
      ]
    },
    {
      "cell_type": "code",
      "execution_count": null,
      "metadata": {
        "id": "4xcG0mh2E_-G"
      },
      "outputs": [],
      "source": [
        "results.to_csv('res.csv')\n",
        "test_df.to_csv('test_df.csv')"
      ]
    },
    {
      "cell_type": "code",
      "execution_count": null,
      "metadata": {
        "colab": {
          "base_uri": "https://localhost:8080/"
        },
        "id": "8KHLeTbNFEJN",
        "outputId": "b177ec7b-ef90-47bb-fea7-6d16d40ef60f"
      },
      "outputs": [
        {
          "data": {
            "text/plain": [
              "2194"
            ]
          },
          "execution_count": 49,
          "metadata": {},
          "output_type": "execute_result"
        }
      ],
      "source": [
        "count = 0\n",
        "for x,y in zip(results['Predictions'], test_df['specie_type']):\n",
        "  if x == y:\n",
        "    count = count + 1\n",
        "\n",
        "count\n",
        "\n"
      ]
    },
    {
      "cell_type": "code",
      "execution_count": null,
      "metadata": {
        "colab": {
          "base_uri": "https://localhost:8080/"
        },
        "id": "LzEOrKLnHwbD",
        "outputId": "b399838f-e12f-435c-9308-96928049fe64"
      },
      "outputs": [
        {
          "name": "stdout",
          "output_type": "stream",
          "text": [
            "Accuracy :82.03865100416824%\n"
          ]
        }
      ],
      "source": [
        "print(\"Accuracy :\" + str(2165 * 100 /len(results)) + \"%\")"
      ]
    },
    {
      "cell_type": "code",
      "execution_count": null,
      "metadata": {
        "colab": {
          "base_uri": "https://localhost:8080/"
        },
        "id": "0Q7TPlV5NyzJ",
        "outputId": "c7d86476-479c-4910-866f-388877cef1b2"
      },
      "outputs": [
        {
          "data": {
            "text/plain": [
              "array([13, 13,  4, ..., 15,  5, 16])"
            ]
          },
          "execution_count": 51,
          "metadata": {},
          "output_type": "execute_result"
        }
      ],
      "source": [
        "test_class_indices = []\n",
        "for i in test_df['specie_type']:\n",
        "  test_class_index = birds_encoding2[i]\n",
        "  test_class_indices.append(test_class_index)\n",
        "\n",
        "test_class_indices = np.array(test_class_indices)\n",
        "test_class_indices"
      ]
    },
    {
      "cell_type": "code",
      "execution_count": null,
      "metadata": {
        "colab": {
          "base_uri": "https://localhost:8080/"
        },
        "id": "F10fnClPH97K",
        "outputId": "95b2284a-6146-483b-c2db-792139560598"
      },
      "outputs": [
        {
          "name": "stdout",
          "output_type": "stream",
          "text": [
            "[[ 52   1  10   0   0   3   2   4   0   1   1   0   0   4   2   0   3]\n",
            " [  0  25   2   0   0   4   0   0   0   0   0   0   0   0   0   1   2]\n",
            " [  0   0 159   0   1   3   3   1   0   0   1   0   2   1   0   0   5]\n",
            " [  3   0   4  31   0   2   0   0   2   0   0   0   4   0   0   0   1]\n",
            " [  0   1   5   0  91   5   2   0   0   1   1   1   1   3   0   0   1]\n",
            " [  0   0  14   0   0 152   2   0   0   0   2   1   1   2   0   2   2]\n",
            " [  1   0   8   0   1   6  34   0   0   0   0   2   0   1   0   0   6]\n",
            " [  1   1   3   0   0   5   2  44   0   0   0   2   3   1   1   1   1]\n",
            " [  1   0   0   1   0   1   1   0  20   0   0   0   0   0   0   0   0]\n",
            " [  0   0   2   1   0   0   0   0   0 131   5   0  10   8   0   3   0]\n",
            " [  1   0   1   1   0   0   0   0   0   0  77   0   2   2   0   2   0]\n",
            " [  2   0   3   0   1   3   3   1   1   0   1  51   3   2   0   0   1]\n",
            " [  1   0   2   0   1   7   5   0   1   2   4   0 352  15   1   1   3]\n",
            " [  1   1   6   3   0   7   0   0   1  14  11   1  19 568   3   2   9]\n",
            " [  0   0   1   0   0   1   0   0   0   0   1   0   0   1  39   0   1]\n",
            " [  2   0   2   0   0   1   2   0   0   1   2   1   1   2   0 110   3]\n",
            " [  1   2  14   1   1  14   0   2   0   2   0   3   9  14   1   9 258]]\n"
          ]
        }
      ],
      "source": [
        "from sklearn.metrics import accuracy_score, confusion_matrix, classification_report, roc_curve,roc_auc_score\n",
        "cm = confusion_matrix(test_class_indices, predicted_class_indices)\n",
        "print(cm)\n"
      ]
    },
    {
      "cell_type": "code",
      "execution_count": null,
      "metadata": {
        "colab": {
          "base_uri": "https://localhost:8080/"
        },
        "id": "SahvZ2aOPC7c",
        "outputId": "7abfc354-94dc-48f1-a918-78c63ed43c7e"
      },
      "outputs": [
        {
          "name": "stdout",
          "output_type": "stream",
          "text": [
            "              precision    recall  f1-score   support\n",
            "\n",
            "      skylar       0.79      0.63      0.70        83\n",
            "      houfin       0.81      0.74      0.77        34\n",
            "      bcnher       0.67      0.90      0.77       176\n",
            "      eurwig       0.82      0.66      0.73        47\n",
            "      houspa       0.95      0.81      0.88       112\n",
            "      rorpar       0.71      0.85      0.78       178\n",
            "      dunlin       0.61      0.58      0.59        59\n",
            "      brnowl       0.85      0.68      0.75        65\n",
            "      bkbplo       0.80      0.83      0.82        24\n",
            "      normoc       0.86      0.82      0.84       160\n",
            "      cangoo       0.73      0.90      0.80        86\n",
            "     mallar3       0.82      0.71      0.76        72\n",
            "      wesmea       0.86      0.89      0.88       395\n",
            "      gnwtea       0.91      0.88      0.89       646\n",
            "      gwfgoo       0.83      0.89      0.86        44\n",
            "      comsan       0.84      0.87      0.85       127\n",
            "      norcar       0.87      0.78      0.82       331\n",
            "\n",
            "    accuracy                           0.83      2639\n",
            "   macro avg       0.81      0.79      0.79      2639\n",
            "weighted avg       0.84      0.83      0.83      2639\n",
            "\n"
          ]
        }
      ],
      "source": [
        "cr = classification_report(test_class_indices, predicted_class_indices, target_names = birds_classes)\n",
        "print(cr)"
      ]
    },
    {
      "cell_type": "markdown",
      "metadata": {
        "id": "AIBVbCyxzUfi"
      },
      "source": [
        "# Evaluation Metrics from saved models and history\n",
        "* Loss and Accuracy Plots\n",
        "* Accuracy score on test set\n",
        "* Classification Report\n",
        "* Confusion Matrix"
      ]
    },
    {
      "cell_type": "markdown",
      "metadata": {
        "id": "LN5y9B9ukrnq"
      },
      "source": [
        "### Loss and Accuracy Plots"
      ]
    },
    {
      "cell_type": "code",
      "execution_count": null,
      "metadata": {
        "id": "lSiQ2F-zjcmj"
      },
      "outputs": [],
      "source": [
        "import pickle\n",
        "with open('/content/drive/MyDrive/Colab Notebooks/birdclef-2022/model/train_history_effnet_with_new_data', \"rb\") as file_pi:\n",
        "    new_model_history = pickle.load(file_pi)\n"
      ]
    },
    {
      "cell_type": "code",
      "execution_count": null,
      "metadata": {
        "colab": {
          "base_uri": "https://localhost:8080/",
          "height": 559
        },
        "id": "0iPDekMijfVB",
        "outputId": "0f538b3f-822c-48ad-af19-3db0fbcc5de1"
      },
      "outputs": [
        {
          "data": {
            "image/png": "[encoded data removed]",
            "text/plain": [
              "<Figure size 1296x576 with 2 Axes>"
            ]
          },
          "metadata": {},
          "output_type": "display_data"
        }
      ],
      "source": [
        "plt.figure(figsize=(18,8))\n",
        "\n",
        "plt.suptitle('Loss and Accuracy Plots', fontsize=18)\n",
        "\n",
        "plt.subplot(1,2,1)\n",
        "plt.plot(new_model_history['loss'], label='Training Loss')\n",
        "plt.plot(new_model_history['val_loss'], label='Validation Loss')\n",
        "plt.legend()\n",
        "plt.xlabel('Number of epochs', fontsize=15)\n",
        "plt.ylabel('Loss', fontsize=15)\n",
        "\n",
        "plt.subplot(1,2,2)\n",
        "plt.plot(new_model_history['accuracy'], label='Train Accuracy')\n",
        "plt.plot(new_model_history['val_accuracy'], label='Validation Accuracy')\n",
        "plt.legend()\n",
        "plt.xlabel('Number of epochs', fontsize=14)\n",
        "plt.ylabel('Accuracy', fontsize=14)\n",
        "plt.show()"
      ]
    },
    {
      "cell_type": "markdown",
      "metadata": {
        "id": "tgLhILSLkwOm"
      },
      "source": [
        "### Validation Accuracy"
      ]
    },
    {
      "cell_type": "code",
      "execution_count": null,
      "metadata": {
        "id": "fldv2Me6kz2S"
      },
      "outputs": [],
      "source": [
        "new_model = load_model('/content/drive/MyDrive/Colab Notebooks/birdclef-2022/model/effnet-with-new-data.h5')"
      ]
    },
    {
      "cell_type": "code",
      "execution_count": null,
      "metadata": {
        "colab": {
          "base_uri": "https://localhost:8080/"
        },
        "id": "B2udfk1Xk_aI",
        "outputId": "b7a8eed1-cb3c-4310-c687-911b55fb14d1"
      },
      "outputs": [
        {
          "name": "stdout",
          "output_type": "stream",
          "text": [
            "165/165 [==============================] - 13s 73ms/step - loss: 0.5272 - accuracy: 0.8534\n",
            "Validation Accuracy:  85.34 %\n"
          ]
        }
      ],
      "source": [
        "valid_loss, valid_accuracy = new_model.evaluate_generator(generator = valid_generator, verbose = 1)\n",
        "\n",
        "print('Validation Accuracy: ', round((valid_accuracy * 100), 2), \"%\")"
      ]
    },
    {
      "cell_type": "markdown",
      "metadata": {
        "id": "EbNbCVejlVdQ"
      },
      "source": [
        "### **Validation Accuracy: *85.34*%**"
      ]
    },
    {
      "cell_type": "markdown",
      "metadata": {
        "id": "yjy0Z67algMN"
      },
      "source": [
        "### Calculating Test Accuracy"
      ]
    },
    {
      "cell_type": "code",
      "execution_count": null,
      "metadata": {
        "colab": {
          "base_uri": "https://localhost:8080/"
        },
        "id": "WHptkAhalb7V",
        "outputId": "5d08c0d2-7b0e-4b6f-f813-ed06425336fc"
      },
      "outputs": [
        {
          "name": "stdout",
          "output_type": "stream",
          "text": [
            "165/165 [==============================] - 13s 71ms/step\n"
          ]
        }
      ],
      "source": [
        "test_generator.reset()\n",
        "pred=new_model.predict_generator(test_generator,verbose=1)\n",
        "predicted_class_indices=np.argmax(pred,axis=1)"
      ]
    },
    {
      "cell_type": "code",
      "execution_count": null,
      "metadata": {
        "id": "JMdzNKNMljeQ"
      },
      "outputs": [],
      "source": [
        "labels = (train_generator.class_indices)\n",
        "labels = dict((v,k) for k,v in labels.items())\n",
        "predictions = [labels[k] for k in predicted_class_indices]"
      ]
    },
    {
      "cell_type": "code",
      "execution_count": null,
      "metadata": {
        "id": "duZfRx2zlr0V"
      },
      "outputs": [],
      "source": [
        "filenames=test_generator.filenames\n",
        "results=pd.DataFrame({\"Filename\":filenames,\n",
        "                      \"Predictions\":predictions})"
      ]
    },
    {
      "cell_type": "code",
      "execution_count": null,
      "metadata": {
        "id": "3dVoxezCluR2"
      },
      "outputs": [],
      "source": [
        "results.to_csv('/content/drive/MyDrive/Colab Notebooks/birdclef-2022/results/result_using_efficientnet-1.csv')"
      ]
    },
    {
      "cell_type": "code",
      "execution_count": null,
      "metadata": {
        "colab": {
          "base_uri": "https://localhost:8080/"
        },
        "id": "hIEuxE6Jly7f",
        "outputId": "9524019c-859f-4648-dac0-ed209410127c"
      },
      "outputs": [
        {
          "name": "stdout",
          "output_type": "stream",
          "text": [
            "Accuracy:82.03865100416824%\n"
          ]
        }
      ],
      "source": [
        "count = 0\n",
        "for x,y in zip(results['Predictions'], test_df['specie_type']):\n",
        "  if x == y:\n",
        "    count = count + 1\n",
        "print(\"Accuracy:\" + str(2165 * 100 /len(results)) + \"%\")\n"
      ]
    },
    {
      "cell_type": "markdown",
      "metadata": {
        "id": "dpNA5Ldtl7uN"
      },
      "source": [
        "### Computing classification report"
      ]
    },
    {
      "cell_type": "code",
      "execution_count": null,
      "metadata": {
        "colab": {
          "base_uri": "https://localhost:8080/"
        },
        "id": "vdhAR43ul4s7",
        "outputId": "a2d99517-5726-440d-d785-b48930d3d49b"
      },
      "outputs": [
        {
          "name": "stdout",
          "output_type": "stream",
          "text": [
            "              precision    recall  f1-score   support\n",
            "\n",
            "      skylar       0.79      0.63      0.70        83\n",
            "      houfin       0.81      0.74      0.77        34\n",
            "      bcnher       0.67      0.90      0.77       176\n",
            "      eurwig       0.82      0.66      0.73        47\n",
            "      houspa       0.95      0.81      0.88       112\n",
            "      rorpar       0.71      0.85      0.78       178\n",
            "      dunlin       0.61      0.58      0.59        59\n",
            "      brnowl       0.85      0.68      0.75        65\n",
            "      bkbplo       0.80      0.83      0.82        24\n",
            "      normoc       0.86      0.82      0.84       160\n",
            "      cangoo       0.73      0.90      0.80        86\n",
            "     mallar3       0.82      0.71      0.76        72\n",
            "      wesmea       0.86      0.89      0.88       395\n",
            "      gnwtea       0.91      0.88      0.89       646\n",
            "      gwfgoo       0.83      0.89      0.86        44\n",
            "      comsan       0.84      0.87      0.85       127\n",
            "      norcar       0.87      0.78      0.82       331\n",
            "\n",
            "    accuracy                           0.83      2639\n",
            "   macro avg       0.81      0.79      0.79      2639\n",
            "weighted avg       0.84      0.83      0.83      2639\n",
            "\n"
          ]
        }
      ],
      "source": [
        "cr = classification_report(test_class_indices, predicted_class_indices, target_names = birds_classes)\n",
        "print(cr)"
      ]
    },
    {
      "cell_type": "markdown",
      "metadata": {
        "id": "XhBH0YltmD28"
      },
      "source": [
        "### Computing confusion matrix"
      ]
    },
    {
      "cell_type": "code",
      "execution_count": null,
      "metadata": {
        "colab": {
          "base_uri": "https://localhost:8080/"
        },
        "id": "eg-8IfJEmHZ5",
        "outputId": "f48dc36a-a8f2-4e0f-8c84-4063d188efa6"
      },
      "outputs": [
        {
          "data": {
            "text/plain": [
              "array([13, 13,  4, ..., 15,  5, 16])"
            ]
          },
          "execution_count": 60,
          "metadata": {},
          "output_type": "execute_result"
        }
      ],
      "source": [
        "test_class_indices = []\n",
        "for i in test_df['specie_type']:\n",
        "  test_class_index = birds_encoding2[i]\n",
        "  test_class_indices.append(test_class_index)\n",
        "\n",
        "test_class_indices = np.array(test_class_indices)\n",
        "test_class_indices"
      ]
    },
    {
      "cell_type": "code",
      "execution_count": null,
      "metadata": {
        "colab": {
          "base_uri": "https://localhost:8080/"
        },
        "id": "pwHQPfxxmUJg",
        "outputId": "a2c66b69-4a75-458b-a135-efae5d3e9eb7"
      },
      "outputs": [
        {
          "name": "stdout",
          "output_type": "stream",
          "text": [
            "[[ 52   1  10   0   0   3   2   4   0   1   1   0   0   4   2   0   3]\n",
            " [  0  25   2   0   0   4   0   0   0   0   0   0   0   0   0   1   2]\n",
            " [  0   0 159   0   1   3   3   1   0   0   1   0   2   1   0   0   5]\n",
            " [  3   0   4  31   0   2   0   0   2   0   0   0   4   0   0   0   1]\n",
            " [  0   1   5   0  91   5   2   0   0   1   1   1   1   3   0   0   1]\n",
            " [  0   0  14   0   0 152   2   0   0   0   2   1   1   2   0   2   2]\n",
            " [  1   0   8   0   1   6  34   0   0   0   0   2   0   1   0   0   6]\n",
            " [  1   1   3   0   0   5   2  44   0   0   0   2   3   1   1   1   1]\n",
            " [  1   0   0   1   0   1   1   0  20   0   0   0   0   0   0   0   0]\n",
            " [  0   0   2   1   0   0   0   0   0 131   5   0  10   8   0   3   0]\n",
            " [  1   0   1   1   0   0   0   0   0   0  77   0   2   2   0   2   0]\n",
            " [  2   0   3   0   1   3   3   1   1   0   1  51   3   2   0   0   1]\n",
            " [  1   0   2   0   1   7   5   0   1   2   4   0 352  15   1   1   3]\n",
            " [  1   1   6   3   0   7   0   0   1  14  11   1  19 568   3   2   9]\n",
            " [  0   0   1   0   0   1   0   0   0   0   1   0   0   1  39   0   1]\n",
            " [  2   0   2   0   0   1   2   0   0   1   2   1   1   2   0 110   3]\n",
            " [  1   2  14   1   1  14   0   2   0   2   0   3   9  14   1   9 258]]\n"
          ]
        }
      ],
      "source": [
        "from sklearn.metrics import accuracy_score, confusion_matrix, classification_report, roc_curve,roc_auc_score\n",
        "cm = confusion_matrix(test_class_indices, predicted_class_indices)\n",
        "print(cm)\n"
      ]
    }
  ],
  "metadata": {
    "colab": {
      "provenance": []
    },
    "gpuClass": "premium",
    "kernelspec": {
      "display_name": "Python 3",
      "name": "python3"
    },
    "language_info": {
      "name": "python"
    }
  },
  "nbformat": 4,
  "nbformat_minor": 0
}