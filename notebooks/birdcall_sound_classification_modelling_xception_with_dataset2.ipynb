{
  "nbformat": 4,
  "nbformat_minor": 0,
  "metadata": {
    "colab": {
      "provenance": [],
      "machine_shape": "hm"
    },
    "kernelspec": {
      "name": "python3",
      "display_name": "Python 3"
    },
    "language_info": {
      "name": "python"
    },
    "gpuClass": "premium",
    "accelerator": "GPU"
  },
  "cells": [
    {
      "cell_type": "code",
      "source": [
        "from google.colab import drive\n",
        "drive.mount('/content/drive')"
      ],
      "metadata": {
        "colab": {
          "base_uri": "https://localhost:8080/"
        },
        "id": "AA0c31mT6iQ9",
        "outputId": "68034a11-2fdf-42ab-b654-cce96ab39be3"
      },
      "execution_count": null,
      "outputs": [
        {
          "output_type": "stream",
          "name": "stdout",
          "text": [
            "Mounted at /content/drive\n"
          ]
        }
      ]
    },
    {
      "cell_type": "code",
      "source": [
        "import tensorflow as tf\n",
        "print(\"Num GPUs Available: \", len(tf.config.list_physical_devices('GPU')))"
      ],
      "metadata": {
        "colab": {
          "base_uri": "https://localhost:8080/"
        },
        "id": "BRlrFYdFdJpR",
        "outputId": "9c37a7a4-165e-4efc-e718-60d6aac75b0e"
      },
      "execution_count": null,
      "outputs": [
        {
          "output_type": "stream",
          "name": "stdout",
          "text": [
            "Num GPUs Available:  1\n"
          ]
        }
      ]
    },
    {
      "cell_type": "code",
      "source": [
        "from tensorflow.keras import backend as K"
      ],
      "metadata": {
        "id": "I9UXoUI3c-_G"
      },
      "execution_count": null,
      "outputs": []
    },
    {
      "cell_type": "code",
      "source": [
        "gpu_info = !nvidia-smi\n",
        "gpu_info = '\\n'.join(gpu_info)\n",
        "if gpu_info.find('failed') >= 0:\n",
        "  print('Not connected to a GPU')\n",
        "else:\n",
        "  print(gpu_info)"
      ],
      "metadata": {
        "colab": {
          "base_uri": "https://localhost:8080/"
        },
        "id": "3Uzkeq2zVBsu",
        "outputId": "8bafa165-295e-44be-f302-4bc91d981c9f"
      },
      "execution_count": null,
      "outputs": [
        {
          "output_type": "stream",
          "name": "stdout",
          "text": [
            "Wed Nov  2 18:30:57 2022       \n",
            "+-----------------------------------------------------------------------------+\n",
            "| NVIDIA-SMI 460.32.03    Driver Version: 460.32.03    CUDA Version: 11.2     |\n",
            "|-------------------------------+----------------------+----------------------+\n",
            "| GPU  Name        Persistence-M| Bus-Id        Disp.A | Volatile Uncorr. ECC |\n",
            "| Fan  Temp  Perf  Pwr:Usage/Cap|         Memory-Usage | GPU-Util  Compute M. |\n",
            "|                               |                      |               MIG M. |\n",
            "|===============================+======================+======================|\n",
            "|   0  Tesla T4            Off  | 00000000:00:04.0 Off |                    0 |\n",
            "| N/A   54C    P8    10W /  70W |      3MiB / 15109MiB |      0%      Default |\n",
            "|                               |                      |                  N/A |\n",
            "+-------------------------------+----------------------+----------------------+\n",
            "                                                                               \n",
            "+-----------------------------------------------------------------------------+\n",
            "| Processes:                                                                  |\n",
            "|  GPU   GI   CI        PID   Type   Process name                  GPU Memory |\n",
            "|        ID   ID                                                   Usage      |\n",
            "|=============================================================================|\n",
            "|  No running processes found                                                 |\n",
            "+-----------------------------------------------------------------------------+\n"
          ]
        }
      ]
    },
    {
      "cell_type": "code",
      "source": [
        "import tensorflow as tf\n",
        "device_name = tf.test.gpu_device_name()\n",
        "if device_name != '/device:GPU:0':\n",
        "  raise SystemError('GPU device not found')\n",
        "print('Found GPU at: {}'.format(device_name))"
      ],
      "metadata": {
        "colab": {
          "base_uri": "https://localhost:8080/"
        },
        "id": "KY0fGciZVTSZ",
        "outputId": "8ea9a2ca-9034-4785-8871-356e4f7ebbd7"
      },
      "execution_count": null,
      "outputs": [
        {
          "output_type": "stream",
          "name": "stdout",
          "text": [
            "Found GPU at: /device:GPU:0\n"
          ]
        }
      ]
    },
    {
      "cell_type": "code",
      "source": [
        "from zipfile import ZipFile\n",
        "  \n",
        "with ZipFile(\"/content/drive/MyDrive/melspec.zip\", 'r') as zObject:\n",
        "  zObject.extractall(path=\"/content/runtime_data/\")\n",
        "zObject.close()"
      ],
      "metadata": {
        "id": "OVzKfmHpr41i"
      },
      "execution_count": null,
      "outputs": []
    },
    {
      "cell_type": "markdown",
      "source": [
        "### Birdcall classfication - Modelling 🐦\n",
        "Dishita Midha\n",
        "\n",
        "200968196"
      ],
      "metadata": {
        "id": "DfNebexcGclR"
      }
    },
    {
      "cell_type": "code",
      "source": [
        "from torch.utils.data import DataLoader, Dataset, random_split\n",
        "import numpy as np\n",
        "import pandas as pd\n",
        "%matplotlib inline\n",
        "from tqdm.notebook import tqdm\n",
        "import warnings\n",
        "warnings.filterwarnings('ignore')\n",
        "from tqdm.notebook import tqdm\n",
        "from IPython.display import Image\n",
        "from PIL import Image\n",
        "from IPython.display import Audio\n",
        "from torch.utils.data import DataLoader, Dataset, random_split\n",
        "from sklearn.preprocessing import LabelEncoder\n",
        "from numpy import asarray\n",
        "from sklearn.model_selection import train_test_split\n",
        "# from torch.utils.data import Dataset, DataLoader\n",
        "import cv2\n",
        "from tensorflow.keras.preprocessing.image import ImageDataGenerator\n",
        "from tensorflow.keras.callbacks import ReduceLROnPlateau, ModelCheckpoint, EarlyStopping\n",
        "from tensorflow.keras.applications.imagenet_utils import decode_predictions\n",
        "import matplotlib.pyplot as plt\n",
        "from tensorflow.keras.applications.xception import Xception, preprocess_input\n",
        "from tensorflow.keras import backend as K\n",
        "from tensorflow.keras.models import Model\n",
        "from tensorflow.keras.optimizers import Adam\n",
        "from tensorflow.keras.models import Sequential, load_model\n",
        "from tensorflow.keras.layers import Conv2D, MaxPool2D, Dropout, Flatten, Dense, GlobalAveragePooling2D\n",
        "from sklearn.metrics import accuracy_score\n",
        "from sklearn.metrics import accuracy_score, confusion_matrix, classification_report\n",
        "from numpy.random import seed\n",
        "seed(42)\n",
        "tf.random.set_seed(42)"
      ],
      "metadata": {
        "id": "2N53KVyQ6kfC"
      },
      "execution_count": null,
      "outputs": []
    },
    {
      "cell_type": "code",
      "source": [
        "chunk0 = pd.read_csv('/content/drive/MyDrive/Colab Notebooks/birdclef-2022/train_csv/chunk0_0.csv')\n",
        "chunk1 = pd.read_csv('/content/drive/MyDrive/Colab Notebooks/birdclef-2022/train_csv/chunk1_1.csv')\n",
        "chunk2 = pd.read_csv('/content/drive/MyDrive/Colab Notebooks/birdclef-2022/train_csv/chunk2_2.csv')\n",
        "chunk3 = pd.read_csv('/content/drive/MyDrive/Colab Notebooks/birdclef-2022/train_csv/chunk3_3.csv')\n",
        "chunk4 = pd.read_csv('/content/drive/MyDrive/Colab Notebooks/birdclef-2022/train_csv/chunk4_4.csv')\n",
        "chunk5 = pd.read_csv('/content/drive/MyDrive/Colab Notebooks/birdclef-2022/train_csv/chunk5_5.csv')"
      ],
      "metadata": {
        "id": "9MllP46Z6wNX"
      },
      "execution_count": null,
      "outputs": []
    },
    {
      "cell_type": "code",
      "source": [
        "birds = pd.concat([chunk0, chunk1, chunk2, chunk3, chunk4, chunk5])\n",
        "birds"
      ],
      "metadata": {
        "colab": {
          "base_uri": "https://localhost:8080/",
          "height": 424
        },
        "id": "ODqQYptw7LP3",
        "outputId": "0008a2b2-e70a-4942-9486-45d5f52a7ade"
      },
      "execution_count": null,
      "outputs": [
        {
          "output_type": "execute_result",
          "data": {
            "text/plain": [
              "      Unnamed: 0                                         image_path  \\\n",
              "0              0  /content/drive/MyDrive/spectograms_new/train_i...   \n",
              "1              1  /content/drive/MyDrive/spectograms_new/train_i...   \n",
              "2              2  /content/drive/MyDrive/spectograms_new/train_i...   \n",
              "3              3  /content/drive/MyDrive/spectograms_new/train_i...   \n",
              "4              4  /content/drive/MyDrive/spectograms_new/train_i...   \n",
              "...          ...                                                ...   \n",
              "4704        4704  /content/drive/MyDrive/spectograms_new/train_i...   \n",
              "4705        4705  /content/drive/MyDrive/spectograms_new/train_i...   \n",
              "4706        4706  /content/drive/MyDrive/spectograms_new/train_i...   \n",
              "4707        4707  /content/drive/MyDrive/spectograms_new/train_i...   \n",
              "4708        4708  /content/drive/MyDrive/spectograms_new/train_i...   \n",
              "\n",
              "     specie_type  \n",
              "0         bcnher  \n",
              "1         bcnher  \n",
              "2         bcnher  \n",
              "3         bcnher  \n",
              "4         bcnher  \n",
              "...          ...  \n",
              "4704      wesmea  \n",
              "4705      wesmea  \n",
              "4706      wesmea  \n",
              "4707      wesmea  \n",
              "4708      wesmea  \n",
              "\n",
              "[26388 rows x 3 columns]"
            ],
            "text/html": [
              "\n",
              "  <div id=\"df-26507740-401a-44b1-ba0d-3146710badcf\">\n",
              "    <div class=\"colab-df-container\">\n",
              "      <div>\n",
              "<style scoped>\n",
              "    .dataframe tbody tr th:only-of-type {\n",
              "        vertical-align: middle;\n",
              "    }\n",
              "\n",
              "    .dataframe tbody tr th {\n",
              "        vertical-align: top;\n",
              "    }\n",
              "\n",
              "    .dataframe thead th {\n",
              "        text-align: right;\n",
              "    }\n",
              "</style>\n",
              "<table border=\"1\" class=\"dataframe\">\n",
              "  <thead>\n",
              "    <tr style=\"text-align: right;\">\n",
              "      <th></th>\n",
              "      <th>Unnamed: 0</th>\n",
              "      <th>image_path</th>\n",
              "      <th>specie_type</th>\n",
              "    </tr>\n",
              "  </thead>\n",
              "  <tbody>\n",
              "    <tr>\n",
              "      <th>0</th>\n",
              "      <td>0</td>\n",
              "      <td>/content/drive/MyDrive/spectograms_new/train_i...</td>\n",
              "      <td>bcnher</td>\n",
              "    </tr>\n",
              "    <tr>\n",
              "      <th>1</th>\n",
              "      <td>1</td>\n",
              "      <td>/content/drive/MyDrive/spectograms_new/train_i...</td>\n",
              "      <td>bcnher</td>\n",
              "    </tr>\n",
              "    <tr>\n",
              "      <th>2</th>\n",
              "      <td>2</td>\n",
              "      <td>/content/drive/MyDrive/spectograms_new/train_i...</td>\n",
              "      <td>bcnher</td>\n",
              "    </tr>\n",
              "    <tr>\n",
              "      <th>3</th>\n",
              "      <td>3</td>\n",
              "      <td>/content/drive/MyDrive/spectograms_new/train_i...</td>\n",
              "      <td>bcnher</td>\n",
              "    </tr>\n",
              "    <tr>\n",
              "      <th>4</th>\n",
              "      <td>4</td>\n",
              "      <td>/content/drive/MyDrive/spectograms_new/train_i...</td>\n",
              "      <td>bcnher</td>\n",
              "    </tr>\n",
              "    <tr>\n",
              "      <th>...</th>\n",
              "      <td>...</td>\n",
              "      <td>...</td>\n",
              "      <td>...</td>\n",
              "    </tr>\n",
              "    <tr>\n",
              "      <th>4704</th>\n",
              "      <td>4704</td>\n",
              "      <td>/content/drive/MyDrive/spectograms_new/train_i...</td>\n",
              "      <td>wesmea</td>\n",
              "    </tr>\n",
              "    <tr>\n",
              "      <th>4705</th>\n",
              "      <td>4705</td>\n",
              "      <td>/content/drive/MyDrive/spectograms_new/train_i...</td>\n",
              "      <td>wesmea</td>\n",
              "    </tr>\n",
              "    <tr>\n",
              "      <th>4706</th>\n",
              "      <td>4706</td>\n",
              "      <td>/content/drive/MyDrive/spectograms_new/train_i...</td>\n",
              "      <td>wesmea</td>\n",
              "    </tr>\n",
              "    <tr>\n",
              "      <th>4707</th>\n",
              "      <td>4707</td>\n",
              "      <td>/content/drive/MyDrive/spectograms_new/train_i...</td>\n",
              "      <td>wesmea</td>\n",
              "    </tr>\n",
              "    <tr>\n",
              "      <th>4708</th>\n",
              "      <td>4708</td>\n",
              "      <td>/content/drive/MyDrive/spectograms_new/train_i...</td>\n",
              "      <td>wesmea</td>\n",
              "    </tr>\n",
              "  </tbody>\n",
              "</table>\n",
              "<p>26388 rows × 3 columns</p>\n",
              "</div>\n",
              "      <button class=\"colab-df-convert\" onclick=\"convertToInteractive('df-26507740-401a-44b1-ba0d-3146710badcf')\"\n",
              "              title=\"Convert this dataframe to an interactive table.\"\n",
              "              style=\"display:none;\">\n",
              "        \n",
              "  <svg xmlns=\"http://www.w3.org/2000/svg\" height=\"24px\"viewBox=\"0 0 24 24\"\n",
              "       width=\"24px\">\n",
              "    <path d=\"M0 0h24v24H0V0z\" fill=\"none\"/>\n",
              "    <path d=\"M18.56 5.44l.94 2.06.94-2.06 2.06-.94-2.06-.94-.94-2.06-.94 2.06-2.06.94zm-11 1L8.5 8.5l.94-2.06 2.06-.94-2.06-.94L8.5 2.5l-.94 2.06-2.06.94zm10 10l.94 2.06.94-2.06 2.06-.94-2.06-.94-.94-2.06-.94 2.06-2.06.94z\"/><path d=\"M17.41 7.96l-1.37-1.37c-.4-.4-.92-.59-1.43-.59-.52 0-1.04.2-1.43.59L10.3 9.45l-7.72 7.72c-.78.78-.78 2.05 0 2.83L4 21.41c.39.39.9.59 1.41.59.51 0 1.02-.2 1.41-.59l7.78-7.78 2.81-2.81c.8-.78.8-2.07 0-2.86zM5.41 20L4 18.59l7.72-7.72 1.47 1.35L5.41 20z\"/>\n",
              "  </svg>\n",
              "      </button>\n",
              "      \n",
              "  <style>\n",
              "    .colab-df-container {\n",
              "      display:flex;\n",
              "      flex-wrap:wrap;\n",
              "      gap: 12px;\n",
              "    }\n",
              "\n",
              "    .colab-df-convert {\n",
              "      background-color: #E8F0FE;\n",
              "      border: none;\n",
              "      border-radius: 50%;\n",
              "      cursor: pointer;\n",
              "      display: none;\n",
              "      fill: #1967D2;\n",
              "      height: 32px;\n",
              "      padding: 0 0 0 0;\n",
              "      width: 32px;\n",
              "    }\n",
              "\n",
              "    .colab-df-convert:hover {\n",
              "      background-color: #E2EBFA;\n",
              "      box-shadow: 0px 1px 2px rgba(60, 64, 67, 0.3), 0px 1px 3px 1px rgba(60, 64, 67, 0.15);\n",
              "      fill: #174EA6;\n",
              "    }\n",
              "\n",
              "    [theme=dark] .colab-df-convert {\n",
              "      background-color: #3B4455;\n",
              "      fill: #D2E3FC;\n",
              "    }\n",
              "\n",
              "    [theme=dark] .colab-df-convert:hover {\n",
              "      background-color: #434B5C;\n",
              "      box-shadow: 0px 1px 3px 1px rgba(0, 0, 0, 0.15);\n",
              "      filter: drop-shadow(0px 1px 2px rgba(0, 0, 0, 0.3));\n",
              "      fill: #FFFFFF;\n",
              "    }\n",
              "  </style>\n",
              "\n",
              "      <script>\n",
              "        const buttonEl =\n",
              "          document.querySelector('#df-26507740-401a-44b1-ba0d-3146710badcf button.colab-df-convert');\n",
              "        buttonEl.style.display =\n",
              "          google.colab.kernel.accessAllowed ? 'block' : 'none';\n",
              "\n",
              "        async function convertToInteractive(key) {\n",
              "          const element = document.querySelector('#df-26507740-401a-44b1-ba0d-3146710badcf');\n",
              "          const dataTable =\n",
              "            await google.colab.kernel.invokeFunction('convertToInteractive',\n",
              "                                                     [key], {});\n",
              "          if (!dataTable) return;\n",
              "\n",
              "          const docLinkHtml = 'Like what you see? Visit the ' +\n",
              "            '<a target=\"_blank\" href=https://colab.research.google.com/notebooks/data_table.ipynb>data table notebook</a>'\n",
              "            + ' to learn more about interactive tables.';\n",
              "          element.innerHTML = '';\n",
              "          dataTable['output_type'] = 'display_data';\n",
              "          await google.colab.output.renderOutput(dataTable, element);\n",
              "          const docLink = document.createElement('div');\n",
              "          docLink.innerHTML = docLinkHtml;\n",
              "          element.appendChild(docLink);\n",
              "        }\n",
              "      </script>\n",
              "    </div>\n",
              "  </div>\n",
              "  "
            ]
          },
          "metadata": {},
          "execution_count": 9
        }
      ]
    },
    {
      "cell_type": "code",
      "source": [
        "new_image_paths = []\n",
        "for path in birds['image_path']:\n",
        "  components = path.split('/MyDrive/')\n",
        "  path = '/content/runtime_data/' + components[1]\n",
        "  new_image_paths.append(path)"
      ],
      "metadata": {
        "id": "AF77lUxqtNfJ"
      },
      "execution_count": null,
      "outputs": []
    },
    {
      "cell_type": "code",
      "source": [
        "birds = birds.assign(runtime_image_path = new_image_paths)\n",
        "birds"
      ],
      "metadata": {
        "colab": {
          "base_uri": "https://localhost:8080/",
          "height": 424
        },
        "id": "5D6h5B4LuJyW",
        "outputId": "57cba39e-fbe9-405e-d0bc-9e5b8960c5af"
      },
      "execution_count": null,
      "outputs": [
        {
          "output_type": "execute_result",
          "data": {
            "text/plain": [
              "      Unnamed: 0                                         image_path  \\\n",
              "0              0  /content/drive/MyDrive/spectograms_new/train_i...   \n",
              "1              1  /content/drive/MyDrive/spectograms_new/train_i...   \n",
              "2              2  /content/drive/MyDrive/spectograms_new/train_i...   \n",
              "3              3  /content/drive/MyDrive/spectograms_new/train_i...   \n",
              "4              4  /content/drive/MyDrive/spectograms_new/train_i...   \n",
              "...          ...                                                ...   \n",
              "4704        4704  /content/drive/MyDrive/spectograms_new/train_i...   \n",
              "4705        4705  /content/drive/MyDrive/spectograms_new/train_i...   \n",
              "4706        4706  /content/drive/MyDrive/spectograms_new/train_i...   \n",
              "4707        4707  /content/drive/MyDrive/spectograms_new/train_i...   \n",
              "4708        4708  /content/drive/MyDrive/spectograms_new/train_i...   \n",
              "\n",
              "     specie_type                                 runtime_image_path  \n",
              "0         bcnher  /content/runtime_data/spectograms_new/train_im...  \n",
              "1         bcnher  /content/runtime_data/spectograms_new/train_im...  \n",
              "2         bcnher  /content/runtime_data/spectograms_new/train_im...  \n",
              "3         bcnher  /content/runtime_data/spectograms_new/train_im...  \n",
              "4         bcnher  /content/runtime_data/spectograms_new/train_im...  \n",
              "...          ...                                                ...  \n",
              "4704      wesmea  /content/runtime_data/spectograms_new/train_im...  \n",
              "4705      wesmea  /content/runtime_data/spectograms_new/train_im...  \n",
              "4706      wesmea  /content/runtime_data/spectograms_new/train_im...  \n",
              "4707      wesmea  /content/runtime_data/spectograms_new/train_im...  \n",
              "4708      wesmea  /content/runtime_data/spectograms_new/train_im...  \n",
              "\n",
              "[26388 rows x 4 columns]"
            ],
            "text/html": [
              "\n",
              "  <div id=\"df-4abfa4fc-2a2f-47db-878e-e0e40148b5fe\">\n",
              "    <div class=\"colab-df-container\">\n",
              "      <div>\n",
              "<style scoped>\n",
              "    .dataframe tbody tr th:only-of-type {\n",
              "        vertical-align: middle;\n",
              "    }\n",
              "\n",
              "    .dataframe tbody tr th {\n",
              "        vertical-align: top;\n",
              "    }\n",
              "\n",
              "    .dataframe thead th {\n",
              "        text-align: right;\n",
              "    }\n",
              "</style>\n",
              "<table border=\"1\" class=\"dataframe\">\n",
              "  <thead>\n",
              "    <tr style=\"text-align: right;\">\n",
              "      <th></th>\n",
              "      <th>Unnamed: 0</th>\n",
              "      <th>image_path</th>\n",
              "      <th>specie_type</th>\n",
              "      <th>runtime_image_path</th>\n",
              "    </tr>\n",
              "  </thead>\n",
              "  <tbody>\n",
              "    <tr>\n",
              "      <th>0</th>\n",
              "      <td>0</td>\n",
              "      <td>/content/drive/MyDrive/spectograms_new/train_i...</td>\n",
              "      <td>bcnher</td>\n",
              "      <td>/content/runtime_data/spectograms_new/train_im...</td>\n",
              "    </tr>\n",
              "    <tr>\n",
              "      <th>1</th>\n",
              "      <td>1</td>\n",
              "      <td>/content/drive/MyDrive/spectograms_new/train_i...</td>\n",
              "      <td>bcnher</td>\n",
              "      <td>/content/runtime_data/spectograms_new/train_im...</td>\n",
              "    </tr>\n",
              "    <tr>\n",
              "      <th>2</th>\n",
              "      <td>2</td>\n",
              "      <td>/content/drive/MyDrive/spectograms_new/train_i...</td>\n",
              "      <td>bcnher</td>\n",
              "      <td>/content/runtime_data/spectograms_new/train_im...</td>\n",
              "    </tr>\n",
              "    <tr>\n",
              "      <th>3</th>\n",
              "      <td>3</td>\n",
              "      <td>/content/drive/MyDrive/spectograms_new/train_i...</td>\n",
              "      <td>bcnher</td>\n",
              "      <td>/content/runtime_data/spectograms_new/train_im...</td>\n",
              "    </tr>\n",
              "    <tr>\n",
              "      <th>4</th>\n",
              "      <td>4</td>\n",
              "      <td>/content/drive/MyDrive/spectograms_new/train_i...</td>\n",
              "      <td>bcnher</td>\n",
              "      <td>/content/runtime_data/spectograms_new/train_im...</td>\n",
              "    </tr>\n",
              "    <tr>\n",
              "      <th>...</th>\n",
              "      <td>...</td>\n",
              "      <td>...</td>\n",
              "      <td>...</td>\n",
              "      <td>...</td>\n",
              "    </tr>\n",
              "    <tr>\n",
              "      <th>4704</th>\n",
              "      <td>4704</td>\n",
              "      <td>/content/drive/MyDrive/spectograms_new/train_i...</td>\n",
              "      <td>wesmea</td>\n",
              "      <td>/content/runtime_data/spectograms_new/train_im...</td>\n",
              "    </tr>\n",
              "    <tr>\n",
              "      <th>4705</th>\n",
              "      <td>4705</td>\n",
              "      <td>/content/drive/MyDrive/spectograms_new/train_i...</td>\n",
              "      <td>wesmea</td>\n",
              "      <td>/content/runtime_data/spectograms_new/train_im...</td>\n",
              "    </tr>\n",
              "    <tr>\n",
              "      <th>4706</th>\n",
              "      <td>4706</td>\n",
              "      <td>/content/drive/MyDrive/spectograms_new/train_i...</td>\n",
              "      <td>wesmea</td>\n",
              "      <td>/content/runtime_data/spectograms_new/train_im...</td>\n",
              "    </tr>\n",
              "    <tr>\n",
              "      <th>4707</th>\n",
              "      <td>4707</td>\n",
              "      <td>/content/drive/MyDrive/spectograms_new/train_i...</td>\n",
              "      <td>wesmea</td>\n",
              "      <td>/content/runtime_data/spectograms_new/train_im...</td>\n",
              "    </tr>\n",
              "    <tr>\n",
              "      <th>4708</th>\n",
              "      <td>4708</td>\n",
              "      <td>/content/drive/MyDrive/spectograms_new/train_i...</td>\n",
              "      <td>wesmea</td>\n",
              "      <td>/content/runtime_data/spectograms_new/train_im...</td>\n",
              "    </tr>\n",
              "  </tbody>\n",
              "</table>\n",
              "<p>26388 rows × 4 columns</p>\n",
              "</div>\n",
              "      <button class=\"colab-df-convert\" onclick=\"convertToInteractive('df-4abfa4fc-2a2f-47db-878e-e0e40148b5fe')\"\n",
              "              title=\"Convert this dataframe to an interactive table.\"\n",
              "              style=\"display:none;\">\n",
              "        \n",
              "  <svg xmlns=\"http://www.w3.org/2000/svg\" height=\"24px\"viewBox=\"0 0 24 24\"\n",
              "       width=\"24px\">\n",
              "    <path d=\"M0 0h24v24H0V0z\" fill=\"none\"/>\n",
              "    <path d=\"M18.56 5.44l.94 2.06.94-2.06 2.06-.94-2.06-.94-.94-2.06-.94 2.06-2.06.94zm-11 1L8.5 8.5l.94-2.06 2.06-.94-2.06-.94L8.5 2.5l-.94 2.06-2.06.94zm10 10l.94 2.06.94-2.06 2.06-.94-2.06-.94-.94-2.06-.94 2.06-2.06.94z\"/><path d=\"M17.41 7.96l-1.37-1.37c-.4-.4-.92-.59-1.43-.59-.52 0-1.04.2-1.43.59L10.3 9.45l-7.72 7.72c-.78.78-.78 2.05 0 2.83L4 21.41c.39.39.9.59 1.41.59.51 0 1.02-.2 1.41-.59l7.78-7.78 2.81-2.81c.8-.78.8-2.07 0-2.86zM5.41 20L4 18.59l7.72-7.72 1.47 1.35L5.41 20z\"/>\n",
              "  </svg>\n",
              "      </button>\n",
              "      \n",
              "  <style>\n",
              "    .colab-df-container {\n",
              "      display:flex;\n",
              "      flex-wrap:wrap;\n",
              "      gap: 12px;\n",
              "    }\n",
              "\n",
              "    .colab-df-convert {\n",
              "      background-color: #E8F0FE;\n",
              "      border: none;\n",
              "      border-radius: 50%;\n",
              "      cursor: pointer;\n",
              "      display: none;\n",
              "      fill: #1967D2;\n",
              "      height: 32px;\n",
              "      padding: 0 0 0 0;\n",
              "      width: 32px;\n",
              "    }\n",
              "\n",
              "    .colab-df-convert:hover {\n",
              "      background-color: #E2EBFA;\n",
              "      box-shadow: 0px 1px 2px rgba(60, 64, 67, 0.3), 0px 1px 3px 1px rgba(60, 64, 67, 0.15);\n",
              "      fill: #174EA6;\n",
              "    }\n",
              "\n",
              "    [theme=dark] .colab-df-convert {\n",
              "      background-color: #3B4455;\n",
              "      fill: #D2E3FC;\n",
              "    }\n",
              "\n",
              "    [theme=dark] .colab-df-convert:hover {\n",
              "      background-color: #434B5C;\n",
              "      box-shadow: 0px 1px 3px 1px rgba(0, 0, 0, 0.15);\n",
              "      filter: drop-shadow(0px 1px 2px rgba(0, 0, 0, 0.3));\n",
              "      fill: #FFFFFF;\n",
              "    }\n",
              "  </style>\n",
              "\n",
              "      <script>\n",
              "        const buttonEl =\n",
              "          document.querySelector('#df-4abfa4fc-2a2f-47db-878e-e0e40148b5fe button.colab-df-convert');\n",
              "        buttonEl.style.display =\n",
              "          google.colab.kernel.accessAllowed ? 'block' : 'none';\n",
              "\n",
              "        async function convertToInteractive(key) {\n",
              "          const element = document.querySelector('#df-4abfa4fc-2a2f-47db-878e-e0e40148b5fe');\n",
              "          const dataTable =\n",
              "            await google.colab.kernel.invokeFunction('convertToInteractive',\n",
              "                                                     [key], {});\n",
              "          if (!dataTable) return;\n",
              "\n",
              "          const docLinkHtml = 'Like what you see? Visit the ' +\n",
              "            '<a target=\"_blank\" href=https://colab.research.google.com/notebooks/data_table.ipynb>data table notebook</a>'\n",
              "            + ' to learn more about interactive tables.';\n",
              "          element.innerHTML = '';\n",
              "          dataTable['output_type'] = 'display_data';\n",
              "          await google.colab.output.renderOutput(dataTable, element);\n",
              "          const docLink = document.createElement('div');\n",
              "          docLink.innerHTML = docLinkHtml;\n",
              "          element.appendChild(docLink);\n",
              "        }\n",
              "      </script>\n",
              "    </div>\n",
              "  </div>\n",
              "  "
            ]
          },
          "metadata": {},
          "execution_count": 11
        }
      ]
    },
    {
      "cell_type": "code",
      "source": [
        "birds = birds.sample(frac = 1)"
      ],
      "metadata": {
        "id": "k3Qp0sLs7Rag"
      },
      "execution_count": null,
      "outputs": []
    },
    {
      "cell_type": "code",
      "source": [
        "birds = birds[['runtime_image_path', 'specie_type']]"
      ],
      "metadata": {
        "id": "GaWRYJc_AIVp"
      },
      "execution_count": null,
      "outputs": []
    },
    {
      "cell_type": "code",
      "source": [
        "encoder = LabelEncoder()\n",
        "birds['primary_label_encoded'] = encoder.fit_transform(birds['specie_type'])"
      ],
      "metadata": {
        "id": "KdWeMHkA2mSO"
      },
      "execution_count": null,
      "outputs": []
    },
    {
      "cell_type": "code",
      "source": [
        "birds"
      ],
      "metadata": {
        "colab": {
          "base_uri": "https://localhost:8080/",
          "height": 424
        },
        "id": "5JXM9nb5V5fv",
        "outputId": "63f5557d-38db-4495-cdce-5febf557f32b"
      },
      "execution_count": null,
      "outputs": [
        {
          "output_type": "execute_result",
          "data": {
            "text/plain": [
              "                                      runtime_image_path specie_type  \\\n",
              "2229   /content/runtime_data/spectograms_new/train_im...      brnowl   \n",
              "2774   /content/runtime_data/spectograms_new/train_im...     mallar3   \n",
              "1305   /content/runtime_data/spectograms_new/train_im...      houfin   \n",
              "2207   /content/runtime_data/spectograms_new/train_im...      norcar   \n",
              "2111   /content/runtime_data/spectograms_new/train_im...      houspa   \n",
              "...                                                  ...         ...   \n",
              "10774  /content/runtime_data/spectograms_new/train_im...      normoc   \n",
              "3003   /content/runtime_data/spectograms_new/train_im...      dunlin   \n",
              "860    /content/runtime_data/spectograms_new/train_im...      bcnher   \n",
              "4994   /content/runtime_data/spectograms_new/train_im...      normoc   \n",
              "1975   /content/runtime_data/spectograms_new/train_im...      wesmea   \n",
              "\n",
              "       primary_label_encoded  \n",
              "2229                       2  \n",
              "2774                      11  \n",
              "1305                       9  \n",
              "2207                      12  \n",
              "2111                      10  \n",
              "...                      ...  \n",
              "10774                     13  \n",
              "3003                       5  \n",
              "860                        0  \n",
              "4994                      13  \n",
              "1975                      16  \n",
              "\n",
              "[26388 rows x 3 columns]"
            ],
            "text/html": [
              "\n",
              "  <div id=\"df-f931b54a-29c7-4498-86c0-d9e5a94855ee\">\n",
              "    <div class=\"colab-df-container\">\n",
              "      <div>\n",
              "<style scoped>\n",
              "    .dataframe tbody tr th:only-of-type {\n",
              "        vertical-align: middle;\n",
              "    }\n",
              "\n",
              "    .dataframe tbody tr th {\n",
              "        vertical-align: top;\n",
              "    }\n",
              "\n",
              "    .dataframe thead th {\n",
              "        text-align: right;\n",
              "    }\n",
              "</style>\n",
              "<table border=\"1\" class=\"dataframe\">\n",
              "  <thead>\n",
              "    <tr style=\"text-align: right;\">\n",
              "      <th></th>\n",
              "      <th>runtime_image_path</th>\n",
              "      <th>specie_type</th>\n",
              "      <th>primary_label_encoded</th>\n",
              "    </tr>\n",
              "  </thead>\n",
              "  <tbody>\n",
              "    <tr>\n",
              "      <th>2229</th>\n",
              "      <td>/content/runtime_data/spectograms_new/train_im...</td>\n",
              "      <td>brnowl</td>\n",
              "      <td>2</td>\n",
              "    </tr>\n",
              "    <tr>\n",
              "      <th>2774</th>\n",
              "      <td>/content/runtime_data/spectograms_new/train_im...</td>\n",
              "      <td>mallar3</td>\n",
              "      <td>11</td>\n",
              "    </tr>\n",
              "    <tr>\n",
              "      <th>1305</th>\n",
              "      <td>/content/runtime_data/spectograms_new/train_im...</td>\n",
              "      <td>houfin</td>\n",
              "      <td>9</td>\n",
              "    </tr>\n",
              "    <tr>\n",
              "      <th>2207</th>\n",
              "      <td>/content/runtime_data/spectograms_new/train_im...</td>\n",
              "      <td>norcar</td>\n",
              "      <td>12</td>\n",
              "    </tr>\n",
              "    <tr>\n",
              "      <th>2111</th>\n",
              "      <td>/content/runtime_data/spectograms_new/train_im...</td>\n",
              "      <td>houspa</td>\n",
              "      <td>10</td>\n",
              "    </tr>\n",
              "    <tr>\n",
              "      <th>...</th>\n",
              "      <td>...</td>\n",
              "      <td>...</td>\n",
              "      <td>...</td>\n",
              "    </tr>\n",
              "    <tr>\n",
              "      <th>10774</th>\n",
              "      <td>/content/runtime_data/spectograms_new/train_im...</td>\n",
              "      <td>normoc</td>\n",
              "      <td>13</td>\n",
              "    </tr>\n",
              "    <tr>\n",
              "      <th>3003</th>\n",
              "      <td>/content/runtime_data/spectograms_new/train_im...</td>\n",
              "      <td>dunlin</td>\n",
              "      <td>5</td>\n",
              "    </tr>\n",
              "    <tr>\n",
              "      <th>860</th>\n",
              "      <td>/content/runtime_data/spectograms_new/train_im...</td>\n",
              "      <td>bcnher</td>\n",
              "      <td>0</td>\n",
              "    </tr>\n",
              "    <tr>\n",
              "      <th>4994</th>\n",
              "      <td>/content/runtime_data/spectograms_new/train_im...</td>\n",
              "      <td>normoc</td>\n",
              "      <td>13</td>\n",
              "    </tr>\n",
              "    <tr>\n",
              "      <th>1975</th>\n",
              "      <td>/content/runtime_data/spectograms_new/train_im...</td>\n",
              "      <td>wesmea</td>\n",
              "      <td>16</td>\n",
              "    </tr>\n",
              "  </tbody>\n",
              "</table>\n",
              "<p>26388 rows × 3 columns</p>\n",
              "</div>\n",
              "      <button class=\"colab-df-convert\" onclick=\"convertToInteractive('df-f931b54a-29c7-4498-86c0-d9e5a94855ee')\"\n",
              "              title=\"Convert this dataframe to an interactive table.\"\n",
              "              style=\"display:none;\">\n",
              "        \n",
              "  <svg xmlns=\"http://www.w3.org/2000/svg\" height=\"24px\"viewBox=\"0 0 24 24\"\n",
              "       width=\"24px\">\n",
              "    <path d=\"M0 0h24v24H0V0z\" fill=\"none\"/>\n",
              "    <path d=\"M18.56 5.44l.94 2.06.94-2.06 2.06-.94-2.06-.94-.94-2.06-.94 2.06-2.06.94zm-11 1L8.5 8.5l.94-2.06 2.06-.94-2.06-.94L8.5 2.5l-.94 2.06-2.06.94zm10 10l.94 2.06.94-2.06 2.06-.94-2.06-.94-.94-2.06-.94 2.06-2.06.94z\"/><path d=\"M17.41 7.96l-1.37-1.37c-.4-.4-.92-.59-1.43-.59-.52 0-1.04.2-1.43.59L10.3 9.45l-7.72 7.72c-.78.78-.78 2.05 0 2.83L4 21.41c.39.39.9.59 1.41.59.51 0 1.02-.2 1.41-.59l7.78-7.78 2.81-2.81c.8-.78.8-2.07 0-2.86zM5.41 20L4 18.59l7.72-7.72 1.47 1.35L5.41 20z\"/>\n",
              "  </svg>\n",
              "      </button>\n",
              "      \n",
              "  <style>\n",
              "    .colab-df-container {\n",
              "      display:flex;\n",
              "      flex-wrap:wrap;\n",
              "      gap: 12px;\n",
              "    }\n",
              "\n",
              "    .colab-df-convert {\n",
              "      background-color: #E8F0FE;\n",
              "      border: none;\n",
              "      border-radius: 50%;\n",
              "      cursor: pointer;\n",
              "      display: none;\n",
              "      fill: #1967D2;\n",
              "      height: 32px;\n",
              "      padding: 0 0 0 0;\n",
              "      width: 32px;\n",
              "    }\n",
              "\n",
              "    .colab-df-convert:hover {\n",
              "      background-color: #E2EBFA;\n",
              "      box-shadow: 0px 1px 2px rgba(60, 64, 67, 0.3), 0px 1px 3px 1px rgba(60, 64, 67, 0.15);\n",
              "      fill: #174EA6;\n",
              "    }\n",
              "\n",
              "    [theme=dark] .colab-df-convert {\n",
              "      background-color: #3B4455;\n",
              "      fill: #D2E3FC;\n",
              "    }\n",
              "\n",
              "    [theme=dark] .colab-df-convert:hover {\n",
              "      background-color: #434B5C;\n",
              "      box-shadow: 0px 1px 3px 1px rgba(0, 0, 0, 0.15);\n",
              "      filter: drop-shadow(0px 1px 2px rgba(0, 0, 0, 0.3));\n",
              "      fill: #FFFFFF;\n",
              "    }\n",
              "  </style>\n",
              "\n",
              "      <script>\n",
              "        const buttonEl =\n",
              "          document.querySelector('#df-f931b54a-29c7-4498-86c0-d9e5a94855ee button.colab-df-convert');\n",
              "        buttonEl.style.display =\n",
              "          google.colab.kernel.accessAllowed ? 'block' : 'none';\n",
              "\n",
              "        async function convertToInteractive(key) {\n",
              "          const element = document.querySelector('#df-f931b54a-29c7-4498-86c0-d9e5a94855ee');\n",
              "          const dataTable =\n",
              "            await google.colab.kernel.invokeFunction('convertToInteractive',\n",
              "                                                     [key], {});\n",
              "          if (!dataTable) return;\n",
              "\n",
              "          const docLinkHtml = 'Like what you see? Visit the ' +\n",
              "            '<a target=\"_blank\" href=https://colab.research.google.com/notebooks/data_table.ipynb>data table notebook</a>'\n",
              "            + ' to learn more about interactive tables.';\n",
              "          element.innerHTML = '';\n",
              "          dataTable['output_type'] = 'display_data';\n",
              "          await google.colab.output.renderOutput(dataTable, element);\n",
              "          const docLink = document.createElement('div');\n",
              "          docLink.innerHTML = docLinkHtml;\n",
              "          element.appendChild(docLink);\n",
              "        }\n",
              "      </script>\n",
              "    </div>\n",
              "  </div>\n",
              "  "
            ]
          },
          "metadata": {},
          "execution_count": 15
        }
      ]
    },
    {
      "cell_type": "code",
      "source": [
        "#splitting dataset into train test and validation\n",
        "train_ratio = 0.80\n",
        "validation_ratio = 0.10\n",
        "test_ratio = 0.10\n",
        "\n",
        "train = birds['runtime_image_path']\n",
        "test = birds['specie_type']\n",
        "\n",
        "X_train, X_test, y_train, y_test = train_test_split(train, test, test_size= 1 - train_ratio)\n",
        "\n",
        "X_val, X_test, y_val, y_test = train_test_split(X_test, y_test, test_size = test_ratio/(test_ratio + validation_ratio)) \n"
      ],
      "metadata": {
        "id": "zwG6biEg8bOw"
      },
      "execution_count": null,
      "outputs": []
    },
    {
      "cell_type": "code",
      "source": [
        "def generate_df(X, y):\n",
        "  df = pd.DataFrame()\n",
        "  df['runtime_image_path'] = X\n",
        "  df['specie_type'] = y\n",
        "  return df\n",
        "\n",
        "train_df = generate_df(X_train, y_train)\n",
        "val_df = generate_df(X_val, y_val)\n",
        "test_df = generate_df(X_test, y_test)\n"
      ],
      "metadata": {
        "id": "awHjFFpC-pWF"
      },
      "execution_count": null,
      "outputs": []
    },
    {
      "cell_type": "code",
      "source": [
        "class config:\n",
        "  size = (299, 299)\n",
        "  epochs = 20"
      ],
      "metadata": {
        "id": "m2BbqNfaBiGE"
      },
      "execution_count": null,
      "outputs": []
    },
    {
      "cell_type": "markdown",
      "source": [
        "## Creating data generators for train, test, val"
      ],
      "metadata": {
        "id": "qJoOq5bOGGvV"
      }
    },
    {
      "cell_type": "code",
      "source": [
        "birds_classes= [*set(birds['specie_type'].tolist())]\n",
        "\n",
        "train_datagen = ImageDataGenerator(preprocessing_function=preprocess_input,  \n",
        "                                   width_shift_range=0.2,\n",
        "                                   height_shift_range=0.2,\n",
        "                                   shear_range=0.2,\n",
        "                                   zoom_range=0.1,\n",
        "                                   fill_mode='nearest')\n",
        "valid_datagen = ImageDataGenerator(preprocessing_function=preprocess_input)\n"
      ],
      "metadata": {
        "id": "TJd4kDOTYs-O"
      },
      "execution_count": null,
      "outputs": []
    },
    {
      "cell_type": "code",
      "source": [
        "test_datagen = ImageDataGenerator(preprocessing_function=preprocess_input)\n",
        "\n"
      ],
      "metadata": {
        "id": "UG3xCXZm1Dfw"
      },
      "execution_count": null,
      "outputs": []
    },
    {
      "cell_type": "markdown",
      "source": [
        "### Another type of data generator"
      ],
      "metadata": {
        "id": "vYN7RV8fubW2"
      }
    },
    {
      "cell_type": "code",
      "source": [
        "train_generator=train_datagen.flow_from_dataframe(\n",
        "dataframe=train_df,\n",
        "directory=None,\n",
        "x_col=\"runtime_image_path\",\n",
        "y_col=\"specie_type\",\n",
        "batch_size=16,\n",
        "shuffle=True,\n",
        "class_mode=\"categorical\",\n",
        "target_size=config.size)"
      ],
      "metadata": {
        "colab": {
          "base_uri": "https://localhost:8080/"
        },
        "id": "4E1QEs2PtidZ",
        "outputId": "f621b80d-a4ef-451f-cdc6-628558e54d3c"
      },
      "execution_count": null,
      "outputs": [
        {
          "output_type": "stream",
          "name": "stdout",
          "text": [
            "Found 21110 validated image filenames belonging to 17 classes.\n"
          ]
        }
      ]
    },
    {
      "cell_type": "code",
      "source": [
        "valid_generator=valid_datagen.flow_from_dataframe(\n",
        "dataframe=val_df,\n",
        "directory=None,\n",
        "x_col=\"runtime_image_path\",\n",
        "y_col=\"specie_type\",\n",
        "batch_size=16,\n",
        "shuffle=True,\n",
        "class_mode=\"categorical\",\n",
        "target_size=config.size)"
      ],
      "metadata": {
        "colab": {
          "base_uri": "https://localhost:8080/"
        },
        "id": "_LO1_2YTuU_I",
        "outputId": "283a8f21-8622-43e9-bab3-1e87b4427516"
      },
      "execution_count": null,
      "outputs": [
        {
          "output_type": "stream",
          "name": "stdout",
          "text": [
            "Found 2639 validated image filenames belonging to 17 classes.\n"
          ]
        }
      ]
    },
    {
      "cell_type": "code",
      "source": [
        "test_generator=test_datagen.flow_from_dataframe(\n",
        "dataframe=test_df,\n",
        "directory=None,\n",
        "x_col=\"runtime_image_path\",\n",
        "y_col=None,\n",
        "batch_size=16,\n",
        "shuffle=False,\n",
        "class_mode=None,\n",
        "target_size=config.size)"
      ],
      "metadata": {
        "colab": {
          "base_uri": "https://localhost:8080/"
        },
        "id": "e6UvrxbHvel7",
        "outputId": "37541fc2-1442-4479-c239-524ccbbcbeb4"
      },
      "execution_count": null,
      "outputs": [
        {
          "output_type": "stream",
          "name": "stdout",
          "text": [
            "Found 2639 validated image filenames.\n"
          ]
        }
      ]
    },
    {
      "cell_type": "code",
      "source": [
        "birds_encoding2 = {}\n",
        "print('****************')\n",
        "for cls, idx in train_generator.class_indices.items():\n",
        "    print('Class nr ',idx,' -> ', cls)\n",
        "    birds_encoding2[cls] = idx\n",
        "print('****************')"
      ],
      "metadata": {
        "colab": {
          "base_uri": "https://localhost:8080/"
        },
        "id": "v0544PvPx0iw",
        "outputId": "b12276ac-b2ed-47be-948f-4125a66aa795"
      },
      "execution_count": null,
      "outputs": [
        {
          "output_type": "stream",
          "name": "stdout",
          "text": [
            "****************\n",
            "Class nr  0  ->  bcnher\n",
            "Class nr  1  ->  bkbplo\n",
            "Class nr  2  ->  brnowl\n",
            "Class nr  3  ->  cangoo\n",
            "Class nr  4  ->  comsan\n",
            "Class nr  5  ->  dunlin\n",
            "Class nr  6  ->  eurwig\n",
            "Class nr  7  ->  gnwtea\n",
            "Class nr  8  ->  gwfgoo\n",
            "Class nr  9  ->  houfin\n",
            "Class nr  10  ->  houspa\n",
            "Class nr  11  ->  mallar3\n",
            "Class nr  12  ->  norcar\n",
            "Class nr  13  ->  normoc\n",
            "Class nr  14  ->  rorpar\n",
            "Class nr  15  ->  skylar\n",
            "Class nr  16  ->  wesmea\n",
            "****************\n"
          ]
        }
      ]
    },
    {
      "cell_type": "markdown",
      "source": [
        "# MODEL"
      ],
      "metadata": {
        "id": "KhTQCRS8x6cA"
      }
    },
    {
      "cell_type": "code",
      "source": [
        "net = Xception(include_top=False,\n",
        "                        weights='imagenet',\n",
        "                          input_tensor=None,\n",
        "                        input_shape=(299,299,3))\n",
        "x = net.output\n",
        "x = Flatten()(x)\n",
        "x = Dropout(0.5)(x)\n",
        "output_layer = Dense(17, activation='softmax', name='softmax')(x)\n",
        "net_final = Model(inputs=net.input, outputs=output_layer)\n",
        "for layer in net_final.layers[:20]:\n",
        "    layer.trainable = False\n",
        "for layer in net_final.layers[20:]:\n",
        "    layer.trainable = True\n",
        "net_final.compile(optimizer=Adam(lr=5e-4),\n",
        "                  loss='categorical_crossentropy', metrics=['accuracy'])\n",
        "print(net_final.summary())"
      ],
      "metadata": {
        "colab": {
          "base_uri": "https://localhost:8080/"
        },
        "id": "eQC3x2YIbKRM",
        "outputId": "92c2a87c-ec96-45c6-f195-b4bd2f94634f"
      },
      "execution_count": null,
      "outputs": [
        {
          "output_type": "stream",
          "name": "stdout",
          "text": [
            "Downloading data from https://storage.googleapis.com/tensorflow/keras-applications/xception/xception_weights_tf_dim_ordering_tf_kernels_notop.h5\n",
            "83683744/83683744 [==============================] - 1s 0us/step\n",
            "Model: \"model\"\n",
            "__________________________________________________________________________________________________\n",
            " Layer (type)                   Output Shape         Param #     Connected to                     \n",
            "==================================================================================================\n",
            " input_1 (InputLayer)           [(None, 299, 299, 3  0           []                               \n",
            "                                )]                                                                \n",
            "                                                                                                  \n",
            " block1_conv1 (Conv2D)          (None, 149, 149, 32  864         ['input_1[0][0]']                \n",
            "                                )                                                                 \n",
            "                                                                                                  \n",
            " block1_conv1_bn (BatchNormaliz  (None, 149, 149, 32  128        ['block1_conv1[0][0]']           \n",
            " ation)                         )                                                                 \n",
            "                                                                                                  \n",
            " block1_conv1_act (Activation)  (None, 149, 149, 32  0           ['block1_conv1_bn[0][0]']        \n",
            "                                )                                                                 \n",
            "                                                                                                  \n",
            " block1_conv2 (Conv2D)          (None, 147, 147, 64  18432       ['block1_conv1_act[0][0]']       \n",
            "                                )                                                                 \n",
            "                                                                                                  \n",
            " block1_conv2_bn (BatchNormaliz  (None, 147, 147, 64  256        ['block1_conv2[0][0]']           \n",
            " ation)                         )                                                                 \n",
            "                                                                                                  \n",
            " block1_conv2_act (Activation)  (None, 147, 147, 64  0           ['block1_conv2_bn[0][0]']        \n",
            "                                )                                                                 \n",
            "                                                                                                  \n",
            " block2_sepconv1 (SeparableConv  (None, 147, 147, 12  8768       ['block1_conv2_act[0][0]']       \n",
            " 2D)                            8)                                                                \n",
            "                                                                                                  \n",
            " block2_sepconv1_bn (BatchNorma  (None, 147, 147, 12  512        ['block2_sepconv1[0][0]']        \n",
            " lization)                      8)                                                                \n",
            "                                                                                                  \n",
            " block2_sepconv2_act (Activatio  (None, 147, 147, 12  0          ['block2_sepconv1_bn[0][0]']     \n",
            " n)                             8)                                                                \n",
            "                                                                                                  \n",
            " block2_sepconv2 (SeparableConv  (None, 147, 147, 12  17536      ['block2_sepconv2_act[0][0]']    \n",
            " 2D)                            8)                                                                \n",
            "                                                                                                  \n",
            " block2_sepconv2_bn (BatchNorma  (None, 147, 147, 12  512        ['block2_sepconv2[0][0]']        \n",
            " lization)                      8)                                                                \n",
            "                                                                                                  \n",
            " conv2d (Conv2D)                (None, 74, 74, 128)  8192        ['block1_conv2_act[0][0]']       \n",
            "                                                                                                  \n",
            " block2_pool (MaxPooling2D)     (None, 74, 74, 128)  0           ['block2_sepconv2_bn[0][0]']     \n",
            "                                                                                                  \n",
            " batch_normalization (BatchNorm  (None, 74, 74, 128)  512        ['conv2d[0][0]']                 \n",
            " alization)                                                                                       \n",
            "                                                                                                  \n",
            " add (Add)                      (None, 74, 74, 128)  0           ['block2_pool[0][0]',            \n",
            "                                                                  'batch_normalization[0][0]']    \n",
            "                                                                                                  \n",
            " block3_sepconv1_act (Activatio  (None, 74, 74, 128)  0          ['add[0][0]']                    \n",
            " n)                                                                                               \n",
            "                                                                                                  \n",
            " block3_sepconv1 (SeparableConv  (None, 74, 74, 256)  33920      ['block3_sepconv1_act[0][0]']    \n",
            " 2D)                                                                                              \n",
            "                                                                                                  \n",
            " block3_sepconv1_bn (BatchNorma  (None, 74, 74, 256)  1024       ['block3_sepconv1[0][0]']        \n",
            " lization)                                                                                        \n",
            "                                                                                                  \n",
            " block3_sepconv2_act (Activatio  (None, 74, 74, 256)  0          ['block3_sepconv1_bn[0][0]']     \n",
            " n)                                                                                               \n",
            "                                                                                                  \n",
            " block3_sepconv2 (SeparableConv  (None, 74, 74, 256)  67840      ['block3_sepconv2_act[0][0]']    \n",
            " 2D)                                                                                              \n",
            "                                                                                                  \n",
            " block3_sepconv2_bn (BatchNorma  (None, 74, 74, 256)  1024       ['block3_sepconv2[0][0]']        \n",
            " lization)                                                                                        \n",
            "                                                                                                  \n",
            " conv2d_1 (Conv2D)              (None, 37, 37, 256)  32768       ['add[0][0]']                    \n",
            "                                                                                                  \n",
            " block3_pool (MaxPooling2D)     (None, 37, 37, 256)  0           ['block3_sepconv2_bn[0][0]']     \n",
            "                                                                                                  \n",
            " batch_normalization_1 (BatchNo  (None, 37, 37, 256)  1024       ['conv2d_1[0][0]']               \n",
            " rmalization)                                                                                     \n",
            "                                                                                                  \n",
            " add_1 (Add)                    (None, 37, 37, 256)  0           ['block3_pool[0][0]',            \n",
            "                                                                  'batch_normalization_1[0][0]']  \n",
            "                                                                                                  \n",
            " block4_sepconv1_act (Activatio  (None, 37, 37, 256)  0          ['add_1[0][0]']                  \n",
            " n)                                                                                               \n",
            "                                                                                                  \n",
            " block4_sepconv1 (SeparableConv  (None, 37, 37, 728)  188672     ['block4_sepconv1_act[0][0]']    \n",
            " 2D)                                                                                              \n",
            "                                                                                                  \n",
            " block4_sepconv1_bn (BatchNorma  (None, 37, 37, 728)  2912       ['block4_sepconv1[0][0]']        \n",
            " lization)                                                                                        \n",
            "                                                                                                  \n",
            " block4_sepconv2_act (Activatio  (None, 37, 37, 728)  0          ['block4_sepconv1_bn[0][0]']     \n",
            " n)                                                                                               \n",
            "                                                                                                  \n",
            " block4_sepconv2 (SeparableConv  (None, 37, 37, 728)  536536     ['block4_sepconv2_act[0][0]']    \n",
            " 2D)                                                                                              \n",
            "                                                                                                  \n",
            " block4_sepconv2_bn (BatchNorma  (None, 37, 37, 728)  2912       ['block4_sepconv2[0][0]']        \n",
            " lization)                                                                                        \n",
            "                                                                                                  \n",
            " conv2d_2 (Conv2D)              (None, 19, 19, 728)  186368      ['add_1[0][0]']                  \n",
            "                                                                                                  \n",
            " block4_pool (MaxPooling2D)     (None, 19, 19, 728)  0           ['block4_sepconv2_bn[0][0]']     \n",
            "                                                                                                  \n",
            " batch_normalization_2 (BatchNo  (None, 19, 19, 728)  2912       ['conv2d_2[0][0]']               \n",
            " rmalization)                                                                                     \n",
            "                                                                                                  \n",
            " add_2 (Add)                    (None, 19, 19, 728)  0           ['block4_pool[0][0]',            \n",
            "                                                                  'batch_normalization_2[0][0]']  \n",
            "                                                                                                  \n",
            " block5_sepconv1_act (Activatio  (None, 19, 19, 728)  0          ['add_2[0][0]']                  \n",
            " n)                                                                                               \n",
            "                                                                                                  \n",
            " block5_sepconv1 (SeparableConv  (None, 19, 19, 728)  536536     ['block5_sepconv1_act[0][0]']    \n",
            " 2D)                                                                                              \n",
            "                                                                                                  \n",
            " block5_sepconv1_bn (BatchNorma  (None, 19, 19, 728)  2912       ['block5_sepconv1[0][0]']        \n",
            " lization)                                                                                        \n",
            "                                                                                                  \n",
            " block5_sepconv2_act (Activatio  (None, 19, 19, 728)  0          ['block5_sepconv1_bn[0][0]']     \n",
            " n)                                                                                               \n",
            "                                                                                                  \n",
            " block5_sepconv2 (SeparableConv  (None, 19, 19, 728)  536536     ['block5_sepconv2_act[0][0]']    \n",
            " 2D)                                                                                              \n",
            "                                                                                                  \n",
            " block5_sepconv2_bn (BatchNorma  (None, 19, 19, 728)  2912       ['block5_sepconv2[0][0]']        \n",
            " lization)                                                                                        \n",
            "                                                                                                  \n",
            " block5_sepconv3_act (Activatio  (None, 19, 19, 728)  0          ['block5_sepconv2_bn[0][0]']     \n",
            " n)                                                                                               \n",
            "                                                                                                  \n",
            " block5_sepconv3 (SeparableConv  (None, 19, 19, 728)  536536     ['block5_sepconv3_act[0][0]']    \n",
            " 2D)                                                                                              \n",
            "                                                                                                  \n",
            " block5_sepconv3_bn (BatchNorma  (None, 19, 19, 728)  2912       ['block5_sepconv3[0][0]']        \n",
            " lization)                                                                                        \n",
            "                                                                                                  \n",
            " add_3 (Add)                    (None, 19, 19, 728)  0           ['block5_sepconv3_bn[0][0]',     \n",
            "                                                                  'add_2[0][0]']                  \n",
            "                                                                                                  \n",
            " block6_sepconv1_act (Activatio  (None, 19, 19, 728)  0          ['add_3[0][0]']                  \n",
            " n)                                                                                               \n",
            "                                                                                                  \n",
            " block6_sepconv1 (SeparableConv  (None, 19, 19, 728)  536536     ['block6_sepconv1_act[0][0]']    \n",
            " 2D)                                                                                              \n",
            "                                                                                                  \n",
            " block6_sepconv1_bn (BatchNorma  (None, 19, 19, 728)  2912       ['block6_sepconv1[0][0]']        \n",
            " lization)                                                                                        \n",
            "                                                                                                  \n",
            " block6_sepconv2_act (Activatio  (None, 19, 19, 728)  0          ['block6_sepconv1_bn[0][0]']     \n",
            " n)                                                                                               \n",
            "                                                                                                  \n",
            " block6_sepconv2 (SeparableConv  (None, 19, 19, 728)  536536     ['block6_sepconv2_act[0][0]']    \n",
            " 2D)                                                                                              \n",
            "                                                                                                  \n",
            " block6_sepconv2_bn (BatchNorma  (None, 19, 19, 728)  2912       ['block6_sepconv2[0][0]']        \n",
            " lization)                                                                                        \n",
            "                                                                                                  \n",
            " block6_sepconv3_act (Activatio  (None, 19, 19, 728)  0          ['block6_sepconv2_bn[0][0]']     \n",
            " n)                                                                                               \n",
            "                                                                                                  \n",
            " block6_sepconv3 (SeparableConv  (None, 19, 19, 728)  536536     ['block6_sepconv3_act[0][0]']    \n",
            " 2D)                                                                                              \n",
            "                                                                                                  \n",
            " block6_sepconv3_bn (BatchNorma  (None, 19, 19, 728)  2912       ['block6_sepconv3[0][0]']        \n",
            " lization)                                                                                        \n",
            "                                                                                                  \n",
            " add_4 (Add)                    (None, 19, 19, 728)  0           ['block6_sepconv3_bn[0][0]',     \n",
            "                                                                  'add_3[0][0]']                  \n",
            "                                                                                                  \n",
            " block7_sepconv1_act (Activatio  (None, 19, 19, 728)  0          ['add_4[0][0]']                  \n",
            " n)                                                                                               \n",
            "                                                                                                  \n",
            " block7_sepconv1 (SeparableConv  (None, 19, 19, 728)  536536     ['block7_sepconv1_act[0][0]']    \n",
            " 2D)                                                                                              \n",
            "                                                                                                  \n",
            " block7_sepconv1_bn (BatchNorma  (None, 19, 19, 728)  2912       ['block7_sepconv1[0][0]']        \n",
            " lization)                                                                                        \n",
            "                                                                                                  \n",
            " block7_sepconv2_act (Activatio  (None, 19, 19, 728)  0          ['block7_sepconv1_bn[0][0]']     \n",
            " n)                                                                                               \n",
            "                                                                                                  \n",
            " block7_sepconv2 (SeparableConv  (None, 19, 19, 728)  536536     ['block7_sepconv2_act[0][0]']    \n",
            " 2D)                                                                                              \n",
            "                                                                                                  \n",
            " block7_sepconv2_bn (BatchNorma  (None, 19, 19, 728)  2912       ['block7_sepconv2[0][0]']        \n",
            " lization)                                                                                        \n",
            "                                                                                                  \n",
            " block7_sepconv3_act (Activatio  (None, 19, 19, 728)  0          ['block7_sepconv2_bn[0][0]']     \n",
            " n)                                                                                               \n",
            "                                                                                                  \n",
            " block7_sepconv3 (SeparableConv  (None, 19, 19, 728)  536536     ['block7_sepconv3_act[0][0]']    \n",
            " 2D)                                                                                              \n",
            "                                                                                                  \n",
            " block7_sepconv3_bn (BatchNorma  (None, 19, 19, 728)  2912       ['block7_sepconv3[0][0]']        \n",
            " lization)                                                                                        \n",
            "                                                                                                  \n",
            " add_5 (Add)                    (None, 19, 19, 728)  0           ['block7_sepconv3_bn[0][0]',     \n",
            "                                                                  'add_4[0][0]']                  \n",
            "                                                                                                  \n",
            " block8_sepconv1_act (Activatio  (None, 19, 19, 728)  0          ['add_5[0][0]']                  \n",
            " n)                                                                                               \n",
            "                                                                                                  \n",
            " block8_sepconv1 (SeparableConv  (None, 19, 19, 728)  536536     ['block8_sepconv1_act[0][0]']    \n",
            " 2D)                                                                                              \n",
            "                                                                                                  \n",
            " block8_sepconv1_bn (BatchNorma  (None, 19, 19, 728)  2912       ['block8_sepconv1[0][0]']        \n",
            " lization)                                                                                        \n",
            "                                                                                                  \n",
            " block8_sepconv2_act (Activatio  (None, 19, 19, 728)  0          ['block8_sepconv1_bn[0][0]']     \n",
            " n)                                                                                               \n",
            "                                                                                                  \n",
            " block8_sepconv2 (SeparableConv  (None, 19, 19, 728)  536536     ['block8_sepconv2_act[0][0]']    \n",
            " 2D)                                                                                              \n",
            "                                                                                                  \n",
            " block8_sepconv2_bn (BatchNorma  (None, 19, 19, 728)  2912       ['block8_sepconv2[0][0]']        \n",
            " lization)                                                                                        \n",
            "                                                                                                  \n",
            " block8_sepconv3_act (Activatio  (None, 19, 19, 728)  0          ['block8_sepconv2_bn[0][0]']     \n",
            " n)                                                                                               \n",
            "                                                                                                  \n",
            " block8_sepconv3 (SeparableConv  (None, 19, 19, 728)  536536     ['block8_sepconv3_act[0][0]']    \n",
            " 2D)                                                                                              \n",
            "                                                                                                  \n",
            " block8_sepconv3_bn (BatchNorma  (None, 19, 19, 728)  2912       ['block8_sepconv3[0][0]']        \n",
            " lization)                                                                                        \n",
            "                                                                                                  \n",
            " add_6 (Add)                    (None, 19, 19, 728)  0           ['block8_sepconv3_bn[0][0]',     \n",
            "                                                                  'add_5[0][0]']                  \n",
            "                                                                                                  \n",
            " block9_sepconv1_act (Activatio  (None, 19, 19, 728)  0          ['add_6[0][0]']                  \n",
            " n)                                                                                               \n",
            "                                                                                                  \n",
            " block9_sepconv1 (SeparableConv  (None, 19, 19, 728)  536536     ['block9_sepconv1_act[0][0]']    \n",
            " 2D)                                                                                              \n",
            "                                                                                                  \n",
            " block9_sepconv1_bn (BatchNorma  (None, 19, 19, 728)  2912       ['block9_sepconv1[0][0]']        \n",
            " lization)                                                                                        \n",
            "                                                                                                  \n",
            " block9_sepconv2_act (Activatio  (None, 19, 19, 728)  0          ['block9_sepconv1_bn[0][0]']     \n",
            " n)                                                                                               \n",
            "                                                                                                  \n",
            " block9_sepconv2 (SeparableConv  (None, 19, 19, 728)  536536     ['block9_sepconv2_act[0][0]']    \n",
            " 2D)                                                                                              \n",
            "                                                                                                  \n",
            " block9_sepconv2_bn (BatchNorma  (None, 19, 19, 728)  2912       ['block9_sepconv2[0][0]']        \n",
            " lization)                                                                                        \n",
            "                                                                                                  \n",
            " block9_sepconv3_act (Activatio  (None, 19, 19, 728)  0          ['block9_sepconv2_bn[0][0]']     \n",
            " n)                                                                                               \n",
            "                                                                                                  \n",
            " block9_sepconv3 (SeparableConv  (None, 19, 19, 728)  536536     ['block9_sepconv3_act[0][0]']    \n",
            " 2D)                                                                                              \n",
            "                                                                                                  \n",
            " block9_sepconv3_bn (BatchNorma  (None, 19, 19, 728)  2912       ['block9_sepconv3[0][0]']        \n",
            " lization)                                                                                        \n",
            "                                                                                                  \n",
            " add_7 (Add)                    (None, 19, 19, 728)  0           ['block9_sepconv3_bn[0][0]',     \n",
            "                                                                  'add_6[0][0]']                  \n",
            "                                                                                                  \n",
            " block10_sepconv1_act (Activati  (None, 19, 19, 728)  0          ['add_7[0][0]']                  \n",
            " on)                                                                                              \n",
            "                                                                                                  \n",
            " block10_sepconv1 (SeparableCon  (None, 19, 19, 728)  536536     ['block10_sepconv1_act[0][0]']   \n",
            " v2D)                                                                                             \n",
            "                                                                                                  \n",
            " block10_sepconv1_bn (BatchNorm  (None, 19, 19, 728)  2912       ['block10_sepconv1[0][0]']       \n",
            " alization)                                                                                       \n",
            "                                                                                                  \n",
            " block10_sepconv2_act (Activati  (None, 19, 19, 728)  0          ['block10_sepconv1_bn[0][0]']    \n",
            " on)                                                                                              \n",
            "                                                                                                  \n",
            " block10_sepconv2 (SeparableCon  (None, 19, 19, 728)  536536     ['block10_sepconv2_act[0][0]']   \n",
            " v2D)                                                                                             \n",
            "                                                                                                  \n",
            " block10_sepconv2_bn (BatchNorm  (None, 19, 19, 728)  2912       ['block10_sepconv2[0][0]']       \n",
            " alization)                                                                                       \n",
            "                                                                                                  \n",
            " block10_sepconv3_act (Activati  (None, 19, 19, 728)  0          ['block10_sepconv2_bn[0][0]']    \n",
            " on)                                                                                              \n",
            "                                                                                                  \n",
            " block10_sepconv3 (SeparableCon  (None, 19, 19, 728)  536536     ['block10_sepconv3_act[0][0]']   \n",
            " v2D)                                                                                             \n",
            "                                                                                                  \n",
            " block10_sepconv3_bn (BatchNorm  (None, 19, 19, 728)  2912       ['block10_sepconv3[0][0]']       \n",
            " alization)                                                                                       \n",
            "                                                                                                  \n",
            " add_8 (Add)                    (None, 19, 19, 728)  0           ['block10_sepconv3_bn[0][0]',    \n",
            "                                                                  'add_7[0][0]']                  \n",
            "                                                                                                  \n",
            " block11_sepconv1_act (Activati  (None, 19, 19, 728)  0          ['add_8[0][0]']                  \n",
            " on)                                                                                              \n",
            "                                                                                                  \n",
            " block11_sepconv1 (SeparableCon  (None, 19, 19, 728)  536536     ['block11_sepconv1_act[0][0]']   \n",
            " v2D)                                                                                             \n",
            "                                                                                                  \n",
            " block11_sepconv1_bn (BatchNorm  (None, 19, 19, 728)  2912       ['block11_sepconv1[0][0]']       \n",
            " alization)                                                                                       \n",
            "                                                                                                  \n",
            " block11_sepconv2_act (Activati  (None, 19, 19, 728)  0          ['block11_sepconv1_bn[0][0]']    \n",
            " on)                                                                                              \n",
            "                                                                                                  \n",
            " block11_sepconv2 (SeparableCon  (None, 19, 19, 728)  536536     ['block11_sepconv2_act[0][0]']   \n",
            " v2D)                                                                                             \n",
            "                                                                                                  \n",
            " block11_sepconv2_bn (BatchNorm  (None, 19, 19, 728)  2912       ['block11_sepconv2[0][0]']       \n",
            " alization)                                                                                       \n",
            "                                                                                                  \n",
            " block11_sepconv3_act (Activati  (None, 19, 19, 728)  0          ['block11_sepconv2_bn[0][0]']    \n",
            " on)                                                                                              \n",
            "                                                                                                  \n",
            " block11_sepconv3 (SeparableCon  (None, 19, 19, 728)  536536     ['block11_sepconv3_act[0][0]']   \n",
            " v2D)                                                                                             \n",
            "                                                                                                  \n",
            " block11_sepconv3_bn (BatchNorm  (None, 19, 19, 728)  2912       ['block11_sepconv3[0][0]']       \n",
            " alization)                                                                                       \n",
            "                                                                                                  \n",
            " add_9 (Add)                    (None, 19, 19, 728)  0           ['block11_sepconv3_bn[0][0]',    \n",
            "                                                                  'add_8[0][0]']                  \n",
            "                                                                                                  \n",
            " block12_sepconv1_act (Activati  (None, 19, 19, 728)  0          ['add_9[0][0]']                  \n",
            " on)                                                                                              \n",
            "                                                                                                  \n",
            " block12_sepconv1 (SeparableCon  (None, 19, 19, 728)  536536     ['block12_sepconv1_act[0][0]']   \n",
            " v2D)                                                                                             \n",
            "                                                                                                  \n",
            " block12_sepconv1_bn (BatchNorm  (None, 19, 19, 728)  2912       ['block12_sepconv1[0][0]']       \n",
            " alization)                                                                                       \n",
            "                                                                                                  \n",
            " block12_sepconv2_act (Activati  (None, 19, 19, 728)  0          ['block12_sepconv1_bn[0][0]']    \n",
            " on)                                                                                              \n",
            "                                                                                                  \n",
            " block12_sepconv2 (SeparableCon  (None, 19, 19, 728)  536536     ['block12_sepconv2_act[0][0]']   \n",
            " v2D)                                                                                             \n",
            "                                                                                                  \n",
            " block12_sepconv2_bn (BatchNorm  (None, 19, 19, 728)  2912       ['block12_sepconv2[0][0]']       \n",
            " alization)                                                                                       \n",
            "                                                                                                  \n",
            " block12_sepconv3_act (Activati  (None, 19, 19, 728)  0          ['block12_sepconv2_bn[0][0]']    \n",
            " on)                                                                                              \n",
            "                                                                                                  \n",
            " block12_sepconv3 (SeparableCon  (None, 19, 19, 728)  536536     ['block12_sepconv3_act[0][0]']   \n",
            " v2D)                                                                                             \n",
            "                                                                                                  \n",
            " block12_sepconv3_bn (BatchNorm  (None, 19, 19, 728)  2912       ['block12_sepconv3[0][0]']       \n",
            " alization)                                                                                       \n",
            "                                                                                                  \n",
            " add_10 (Add)                   (None, 19, 19, 728)  0           ['block12_sepconv3_bn[0][0]',    \n",
            "                                                                  'add_9[0][0]']                  \n",
            "                                                                                                  \n",
            " block13_sepconv1_act (Activati  (None, 19, 19, 728)  0          ['add_10[0][0]']                 \n",
            " on)                                                                                              \n",
            "                                                                                                  \n",
            " block13_sepconv1 (SeparableCon  (None, 19, 19, 728)  536536     ['block13_sepconv1_act[0][0]']   \n",
            " v2D)                                                                                             \n",
            "                                                                                                  \n",
            " block13_sepconv1_bn (BatchNorm  (None, 19, 19, 728)  2912       ['block13_sepconv1[0][0]']       \n",
            " alization)                                                                                       \n",
            "                                                                                                  \n",
            " block13_sepconv2_act (Activati  (None, 19, 19, 728)  0          ['block13_sepconv1_bn[0][0]']    \n",
            " on)                                                                                              \n",
            "                                                                                                  \n",
            " block13_sepconv2 (SeparableCon  (None, 19, 19, 1024  752024     ['block13_sepconv2_act[0][0]']   \n",
            " v2D)                           )                                                                 \n",
            "                                                                                                  \n",
            " block13_sepconv2_bn (BatchNorm  (None, 19, 19, 1024  4096       ['block13_sepconv2[0][0]']       \n",
            " alization)                     )                                                                 \n",
            "                                                                                                  \n",
            " conv2d_3 (Conv2D)              (None, 10, 10, 1024  745472      ['add_10[0][0]']                 \n",
            "                                )                                                                 \n",
            "                                                                                                  \n",
            " block13_pool (MaxPooling2D)    (None, 10, 10, 1024  0           ['block13_sepconv2_bn[0][0]']    \n",
            "                                )                                                                 \n",
            "                                                                                                  \n",
            " batch_normalization_3 (BatchNo  (None, 10, 10, 1024  4096       ['conv2d_3[0][0]']               \n",
            " rmalization)                   )                                                                 \n",
            "                                                                                                  \n",
            " add_11 (Add)                   (None, 10, 10, 1024  0           ['block13_pool[0][0]',           \n",
            "                                )                                 'batch_normalization_3[0][0]']  \n",
            "                                                                                                  \n",
            " block14_sepconv1 (SeparableCon  (None, 10, 10, 1536  1582080    ['add_11[0][0]']                 \n",
            " v2D)                           )                                                                 \n",
            "                                                                                                  \n",
            " block14_sepconv1_bn (BatchNorm  (None, 10, 10, 1536  6144       ['block14_sepconv1[0][0]']       \n",
            " alization)                     )                                                                 \n",
            "                                                                                                  \n",
            " block14_sepconv1_act (Activati  (None, 10, 10, 1536  0          ['block14_sepconv1_bn[0][0]']    \n",
            " on)                            )                                                                 \n",
            "                                                                                                  \n",
            " block14_sepconv2 (SeparableCon  (None, 10, 10, 2048  3159552    ['block14_sepconv1_act[0][0]']   \n",
            " v2D)                           )                                                                 \n",
            "                                                                                                  \n",
            " block14_sepconv2_bn (BatchNorm  (None, 10, 10, 2048  8192       ['block14_sepconv2[0][0]']       \n",
            " alization)                     )                                                                 \n",
            "                                                                                                  \n",
            " block14_sepconv2_act (Activati  (None, 10, 10, 2048  0          ['block14_sepconv2_bn[0][0]']    \n",
            " on)                            )                                                                 \n",
            "                                                                                                  \n",
            " flatten (Flatten)              (None, 204800)       0           ['block14_sepconv2_act[0][0]']   \n",
            "                                                                                                  \n",
            " dropout (Dropout)              (None, 204800)       0           ['flatten[0][0]']                \n",
            "                                                                                                  \n",
            " softmax (Dense)                (None, 17)           3481617     ['dropout[0][0]']                \n",
            "                                                                                                  \n",
            "==================================================================================================\n",
            "Total params: 24,343,097\n",
            "Trainable params: 24,199,385\n",
            "Non-trainable params: 143,712\n",
            "__________________________________________________________________________________________________\n",
            "None\n"
          ]
        }
      ]
    },
    {
      "cell_type": "code",
      "source": [
        "optimizer = Adam(lr=0.0001)\n",
        "\n",
        "#early stopping to monitor the validation loss and avoid overfitting\n",
        "early_stop = EarlyStopping(monitor='val_loss', mode='min', verbose=1, patience=10, restore_best_weights=True)\n",
        "\n",
        "#reducing learning rate on plateau\n",
        "rlrop = ReduceLROnPlateau(monitor='val_loss', mode='min', patience= 5, factor= 0.5, min_lr= 1e-6, verbose=1)\n",
        "#model compiling\n",
        "net_final.compile(optimizer=optimizer, loss='categorical_crossentropy', metrics=['accuracy'])"
      ],
      "metadata": {
        "id": "-GrZ4wDreA5K"
      },
      "execution_count": null,
      "outputs": []
    },
    {
      "cell_type": "code",
      "source": [
        "model_history = net_final.fit_generator(train_generator, validation_data = valid_generator, callbacks = [early_stop, rlrop],verbose = 1, epochs = config.epochs)\n",
        "net_final.save(\"/content/drive/MyDrive/Colab Notebooks/birdclef-2022/model/xception-with-new-data.h5\")"
      ],
      "metadata": {
        "colab": {
          "base_uri": "https://localhost:8080/"
        },
        "id": "kDOVnvhaetYn",
        "outputId": "0b51a48e-d925-4d92-b916-07bad6f17006"
      },
      "execution_count": null,
      "outputs": [
        {
          "output_type": "stream",
          "name": "stdout",
          "text": [
            "Epoch 1/20\n",
            "1320/1320 [==============================] - 572s 423ms/step - loss: 1.4274 - accuracy: 0.5608 - val_loss: 1.2842 - val_accuracy: 0.7014 - lr: 1.0000e-04\n",
            "Epoch 2/20\n",
            "1320/1320 [==============================] - 557s 422ms/step - loss: 0.9405 - accuracy: 0.7123 - val_loss: 0.8481 - val_accuracy: 0.7419 - lr: 1.0000e-04\n",
            "Epoch 3/20\n",
            "1320/1320 [==============================] - 556s 421ms/step - loss: 0.7900 - accuracy: 0.7585 - val_loss: 0.6506 - val_accuracy: 0.8064 - lr: 1.0000e-04\n",
            "Epoch 4/20\n",
            "1320/1320 [==============================] - 557s 422ms/step - loss: 0.6887 - accuracy: 0.7858 - val_loss: 0.6363 - val_accuracy: 0.8083 - lr: 1.0000e-04\n",
            "Epoch 5/20\n",
            "1320/1320 [==============================] - 556s 421ms/step - loss: 0.6246 - accuracy: 0.8077 - val_loss: 0.6664 - val_accuracy: 0.8086 - lr: 1.0000e-04\n",
            "Epoch 6/20\n",
            "1320/1320 [==============================] - 555s 420ms/step - loss: 0.5636 - accuracy: 0.8251 - val_loss: 0.5749 - val_accuracy: 0.8450 - lr: 1.0000e-04\n",
            "Epoch 7/20\n",
            "1320/1320 [==============================] - 554s 419ms/step - loss: 0.5157 - accuracy: 0.8405 - val_loss: 0.6203 - val_accuracy: 0.8359 - lr: 1.0000e-04\n",
            "Epoch 8/20\n",
            "1320/1320 [==============================] - 555s 420ms/step - loss: 0.4670 - accuracy: 0.8535 - val_loss: 0.5968 - val_accuracy: 0.8348 - lr: 1.0000e-04\n",
            "Epoch 9/20\n",
            "1320/1320 [==============================] - 554s 420ms/step - loss: 0.4376 - accuracy: 0.8638 - val_loss: 0.6423 - val_accuracy: 0.8268 - lr: 1.0000e-04\n",
            "Epoch 10/20\n",
            "1320/1320 [==============================] - 557s 422ms/step - loss: 0.4052 - accuracy: 0.8729 - val_loss: 0.6004 - val_accuracy: 0.8439 - lr: 1.0000e-04\n",
            "Epoch 11/20\n",
            "1320/1320 [==============================] - ETA: 0s - loss: 0.3916 - accuracy: 0.8748\n",
            "Epoch 11: ReduceLROnPlateau reducing learning rate to 4.999999873689376e-05.\n",
            "1320/1320 [==============================] - 554s 419ms/step - loss: 0.3916 - accuracy: 0.8748 - val_loss: 0.5998 - val_accuracy: 0.8427 - lr: 1.0000e-04\n",
            "Epoch 12/20\n",
            "1320/1320 [==============================] - 554s 419ms/step - loss: 0.2974 - accuracy: 0.9069 - val_loss: 0.6267 - val_accuracy: 0.8526 - lr: 5.0000e-05\n",
            "Epoch 13/20\n",
            "1320/1320 [==============================] - 556s 421ms/step - loss: 0.2737 - accuracy: 0.9157 - val_loss: 0.6302 - val_accuracy: 0.8462 - lr: 5.0000e-05\n",
            "Epoch 14/20\n",
            "1320/1320 [==============================] - 553s 419ms/step - loss: 0.2548 - accuracy: 0.9182 - val_loss: 0.6552 - val_accuracy: 0.8575 - lr: 5.0000e-05\n",
            "Epoch 15/20\n",
            "1320/1320 [==============================] - 557s 421ms/step - loss: 0.2478 - accuracy: 0.9225 - val_loss: 0.6393 - val_accuracy: 0.8518 - lr: 5.0000e-05\n",
            "Epoch 16/20\n",
            "1320/1320 [==============================] - ETA: 0s - loss: 0.2369 - accuracy: 0.9241Restoring model weights from the end of the best epoch: 6.\n",
            "\n",
            "Epoch 16: ReduceLROnPlateau reducing learning rate to 2.499999936844688e-05.\n",
            "1320/1320 [==============================] - 555s 421ms/step - loss: 0.2369 - accuracy: 0.9241 - val_loss: 0.6880 - val_accuracy: 0.8499 - lr: 5.0000e-05\n",
            "Epoch 16: early stopping\n"
          ]
        }
      ]
    },
    {
      "cell_type": "code",
      "source": [
        "import pickle\n",
        "with open('/content/drive/MyDrive/Colab Notebooks/birdclef-2022/model/train_history_xception_with_new_data', 'wb') as file_pi:\n",
        "    pickle.dump(model_history.history, file_pi)"
      ],
      "metadata": {
        "id": "iD0Gib5O77Jb"
      },
      "execution_count": null,
      "outputs": []
    },
    {
      "cell_type": "code",
      "source": [
        "net_final.save_weights(\"/content/drive/MyDrive/Colab Notebooks/birdclef-2022/model/xception_with_new_data-2.h5\")"
      ],
      "metadata": {
        "id": "RVMOLRg7dqHv"
      },
      "execution_count": null,
      "outputs": []
    },
    {
      "cell_type": "markdown",
      "source": [
        "# metric analysis"
      ],
      "metadata": {
        "id": "AIBVbCyxzUfi"
      }
    },
    {
      "cell_type": "code",
      "source": [
        "plt.figure(figsize=(18,8))\n",
        "\n",
        "plt.suptitle('Loss and Accuracy Plots', fontsize=18)\n",
        "\n",
        "plt.subplot(1,2,1)\n",
        "plt.plot(model_history.history['loss'], label='Training Loss')\n",
        "plt.plot(model_history.history['val_loss'], label='Validation Loss')\n",
        "plt.legend()\n",
        "plt.xlabel('Number of epochs', fontsize=15)\n",
        "plt.ylabel('Loss', fontsize=15)\n",
        "\n",
        "plt.subplot(1,2,2)\n",
        "plt.plot(model_history.history['accuracy'], label='Train Accuracy')\n",
        "plt.plot(model_history.history['val_accuracy'], label='Validation Accuracy')\n",
        "plt.legend()\n",
        "plt.xlabel('Number of epochs', fontsize=14)\n",
        "plt.ylabel('Accuracy', fontsize=14)\n",
        "plt.show()"
      ],
      "metadata": {
        "id": "5foalRdDBCDi",
        "colab": {
          "base_uri": "https://localhost:8080/",
          "height": 559
        },
        "outputId": "59e26f4d-3800-4745-a9b2-bc1f9effd2c3"
      },
      "execution_count": null,
      "outputs": [
        {
          "output_type": "display_data",
          "data": {
            "text/plain": [
              "<Figure size 1296x576 with 2 Axes>"
            ],
            "image/png": "[encoded data removed]"
          },
          "metadata": {
            "needs_background": "light"
          }
        }
      ]
    },
    {
      "cell_type": "code",
      "source": [
        "net_final = load_model('/content/drive/MyDrive/Colab Notebooks/birdclef-2022/model/xception-with-new-data.h5')"
      ],
      "metadata": {
        "id": "LsCJy-oIEMY7"
      },
      "execution_count": null,
      "outputs": []
    },
    {
      "cell_type": "code",
      "source": [
        "valid_loss, valid_accuracy = net_final.evaluate_generator(generator = valid_generator, verbose = 1)\n",
        "\n",
        "print('Validation Accuracy: ', round((valid_accuracy * 100), 2), \"%\")"
      ],
      "metadata": {
        "colab": {
          "base_uri": "https://localhost:8080/"
        },
        "id": "Pyzx6BtlR85L",
        "outputId": "e3195b6a-4f49-432b-e5db-479299aa27a5"
      },
      "execution_count": null,
      "outputs": [
        {
          "output_type": "stream",
          "name": "stdout",
          "text": [
            "165/165 [==============================] - 23s 134ms/step - loss: 0.5749 - accuracy: 0.8450\n",
            "Validation Accuracy:  84.5 %\n"
          ]
        }
      ]
    },
    {
      "cell_type": "code",
      "source": [
        "test_generator.reset()\n",
        "pred=net_final.predict_generator(test_generator,verbose=1)\n",
        "predicted_class_indices=np.argmax(pred,axis=1)"
      ],
      "metadata": {
        "id": "Q2iE3AS3ZPku",
        "colab": {
          "base_uri": "https://localhost:8080/"
        },
        "outputId": "c959823c-1575-45ea-f5fc-6172b16178f8"
      },
      "execution_count": null,
      "outputs": [
        {
          "output_type": "stream",
          "name": "stdout",
          "text": [
            "165/165 [==============================] - 22s 127ms/step\n"
          ]
        }
      ]
    },
    {
      "cell_type": "code",
      "source": [
        "labels = (train_generator.class_indices)\n",
        "labels = dict((v,k) for k,v in labels.items())\n",
        "predictions = [labels[k] for k in predicted_class_indices]"
      ],
      "metadata": {
        "id": "9aqh5olgD_hE"
      },
      "execution_count": null,
      "outputs": []
    },
    {
      "cell_type": "code",
      "source": [
        "filenames=test_generator.filenames\n",
        "results=pd.DataFrame({\"Filename\":filenames,\n",
        "                      \"Predictions\":predictions})"
      ],
      "metadata": {
        "id": "iYePGTACE_Ga"
      },
      "execution_count": null,
      "outputs": []
    },
    {
      "cell_type": "code",
      "source": [
        "results.to_csv('res.csv')\n",
        "test_df.to_csv('test_df.csv')"
      ],
      "metadata": {
        "id": "4xcG0mh2E_-G"
      },
      "execution_count": null,
      "outputs": []
    },
    {
      "cell_type": "code",
      "source": [
        "count = 0\n",
        "for x,y in zip(results['Predictions'], test_df['specie_type']):\n",
        "  if x == y:\n",
        "    count = count + 1\n",
        "\n",
        "count\n",
        "\n"
      ],
      "metadata": {
        "id": "8KHLeTbNFEJN",
        "colab": {
          "base_uri": "https://localhost:8080/"
        },
        "outputId": "28bf3fa3-1263-49a2-89d7-e1ea4c3c3034"
      },
      "execution_count": null,
      "outputs": [
        {
          "output_type": "execute_result",
          "data": {
            "text/plain": [
              "2167"
            ]
          },
          "metadata": {},
          "execution_count": 37
        }
      ]
    },
    {
      "cell_type": "code",
      "source": [
        "print(\"Accuracy :\" + str(count* 100 /len(results)) + \"%\")"
      ],
      "metadata": {
        "colab": {
          "base_uri": "https://localhost:8080/"
        },
        "id": "LzEOrKLnHwbD",
        "outputId": "046df153-5607-412c-9b3a-8ed2e1d7260e"
      },
      "execution_count": null,
      "outputs": [
        {
          "output_type": "stream",
          "name": "stdout",
          "text": [
            "Accuracy :82.11443728685109%\n"
          ]
        }
      ]
    },
    {
      "cell_type": "code",
      "source": [
        "test_class_indices = []\n",
        "for i in test_df['specie_type']:\n",
        "  test_class_index = birds_encoding2[i]\n",
        "  test_class_indices.append(test_class_index)\n",
        "\n",
        "test_class_indices = np.array(test_class_indices)\n",
        "test_class_indices"
      ],
      "metadata": {
        "id": "F10fnClPH97K",
        "colab": {
          "base_uri": "https://localhost:8080/"
        },
        "outputId": "09485828-5283-4c4d-d4af-9080e0e13365"
      },
      "execution_count": null,
      "outputs": [
        {
          "output_type": "execute_result",
          "data": {
            "text/plain": [
              "array([13, 13,  4, ..., 15,  5, 16])"
            ]
          },
          "metadata": {},
          "execution_count": 39
        }
      ]
    },
    {
      "cell_type": "code",
      "source": [
        "from sklearn.metrics import accuracy_score, confusion_matrix, classification_report, roc_curve,roc_auc_score\n",
        "cm = confusion_matrix(test_class_indices, predicted_class_indices)\n",
        "print(cm)"
      ],
      "metadata": {
        "colab": {
          "base_uri": "https://localhost:8080/"
        },
        "id": "r3BVmnqfSJTv",
        "outputId": "30710b08-5eb6-438f-b042-ff901a03fc85"
      },
      "execution_count": null,
      "outputs": [
        {
          "output_type": "stream",
          "name": "stdout",
          "text": [
            "[[ 39   0  11   2   0   1   1   7   2   1   0   0   6   7   0   2   4]\n",
            " [  0  21   2   0   0   3   0   0   0   0   0   1   0   2   0   2   3]\n",
            " [  0   0 158   0   0   2   0   0   0   0   0   4   5   1   0   0   6]\n",
            " [  0   0   1  35   0   0   0   0   0   0   0   1   4   1   0   0   5]\n",
            " [  0   0   5   1  98   4   0   0   0   0   0   1   1   0   0   0   2]\n",
            " [  0   0  13   1   2 145   1   0   1   0   1   4   2   2   1   2   3]\n",
            " [  1   0   9   0   1   9  19   1   0   0   0   6   6   1   3   1   2]\n",
            " [  0   0   7   0   0   4   0  38   0   0   1   6   4   2   1   0   2]\n",
            " [  0   0   1   3   0   0   0   2  15   0   0   2   0   1   0   0   0]\n",
            " [  0   0   1   1   0   0   0   0   0 126   6   0  11   7   1   2   5]\n",
            " [  0   0   1   1   0   1   0   0   0   0  68   0   2   7   1   4   1]\n",
            " [  4   0   2   0   1   4   2   1   0   0   0  49   3   4   0   0   2]\n",
            " [  2   0   2   1   0   5   0   2   1   0   4   1 357   7   3   1   9]\n",
            " [  2   0   7   3   0   9   0   0   1   4   4   0  26 571   2   7  10]\n",
            " [  0   0   1   0   0   0   0   0   0   0   0   1   2   2  34   2   2]\n",
            " [  1   0   1   0   0   0   0   0   0   0   0   0   4   5   1 107   8]\n",
            " [  1   0  16   3   0   4   1   1   0   1   0   1   7   7   0   2 287]]\n"
          ]
        }
      ]
    },
    {
      "cell_type": "code",
      "source": [
        "cr = classification_report(test_class_indices, predicted_class_indices, target_names = birds_classes)\n",
        "print(cr)"
      ],
      "metadata": {
        "colab": {
          "base_uri": "https://localhost:8080/"
        },
        "id": "4Tb0f9bjSKIp",
        "outputId": "04f167dc-de6e-4a8a-e702-cf49999e322e"
      },
      "execution_count": null,
      "outputs": [
        {
          "output_type": "stream",
          "name": "stdout",
          "text": [
            "              precision    recall  f1-score   support\n",
            "\n",
            "      houfin       0.78      0.47      0.59        83\n",
            "      brnowl       1.00      0.62      0.76        34\n",
            "      wesmea       0.66      0.90      0.76       176\n",
            "      bcnher       0.69      0.74      0.71        47\n",
            "      gnwtea       0.96      0.88      0.92       112\n",
            "     mallar3       0.76      0.81      0.79       178\n",
            "      normoc       0.79      0.32      0.46        59\n",
            "      gwfgoo       0.73      0.58      0.65        65\n",
            "      rorpar       0.75      0.62      0.68        24\n",
            "      dunlin       0.95      0.79      0.86       160\n",
            "      bkbplo       0.81      0.79      0.80        86\n",
            "      cangoo       0.64      0.68      0.66        72\n",
            "      eurwig       0.81      0.90      0.86       395\n",
            "      comsan       0.91      0.88      0.90       646\n",
            "      norcar       0.72      0.77      0.75        44\n",
            "      houspa       0.81      0.84      0.83       127\n",
            "      skylar       0.82      0.87      0.84       331\n",
            "\n",
            "    accuracy                           0.82      2639\n",
            "   macro avg       0.80      0.73      0.75      2639\n",
            "weighted avg       0.83      0.82      0.82      2639\n",
            "\n"
          ]
        }
      ]
    }
  ]
}